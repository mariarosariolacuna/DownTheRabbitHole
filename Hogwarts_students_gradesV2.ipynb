{
  "nbformat": 4,
  "nbformat_minor": 0,
  "metadata": {
    "colab": {
      "provenance": [],
      "toc_visible": true,
      "authorship_tag": "ABX9TyPV5wtT27e5oGEGh0NoMeNF",
      "include_colab_link": true
    },
    "kernelspec": {
      "name": "python3",
      "display_name": "Python 3"
    },
    "language_info": {
      "name": "python"
    }
  },
  "cells": [
    {
      "cell_type": "markdown",
      "metadata": {
        "id": "view-in-github",
        "colab_type": "text"
      },
      "source": [
        "<a href=\"https://colab.research.google.com/github/mariarosariolacuna/DownTheRabbitHole/blob/main/Hogwarts_students_gradesV2.ipynb\" target=\"_parent\"><img src=\"https://colab.research.google.com/assets/colab-badge.svg\" alt=\"Open In Colab\"/></a>"
      ]
    },
    {
      "cell_type": "markdown",
      "source": [
        "##Prepare api key"
      ],
      "metadata": {
        "id": "1fXJsag5RGtX"
      }
    },
    {
      "cell_type": "code",
      "source": [
        "from google.colab import userdata\n",
        "api_key = userdata.get('GOOGLE_API_KEY')\n",
        "genai.configure(api_key=api_key)"
      ],
      "metadata": {
        "id": "tOhzkkaERKl9"
      },
      "execution_count": null,
      "outputs": []
    },
    {
      "cell_type": "markdown",
      "source": [
        "##Create a local database"
      ],
      "metadata": {
        "id": "CT2v2J54Zmbq"
      }
    },
    {
      "cell_type": "code",
      "source": [
        "%load_ext sql\n",
        "%sql sqlite:///hogwartsv2.db"
      ],
      "metadata": {
        "id": "6rX9tFu5ZoCz",
        "colab": {
          "base_uri": "https://localhost:8080/"
        },
        "outputId": "1e52e197-015c-4d3b-d606-b0618fc4c07d"
      },
      "execution_count": 15,
      "outputs": [
        {
          "output_type": "stream",
          "name": "stdout",
          "text": [
            "The sql extension is already loaded. To reload it, use:\n",
            "  %reload_ext sql\n"
          ]
        }
      ]
    },
    {
      "cell_type": "markdown",
      "source": [
        "Create the tables and insert some synthetic data."
      ],
      "metadata": {
        "id": "IIZ9yJGKZ8eq"
      }
    },
    {
      "cell_type": "code",
      "source": [
        "%%sql\n",
        "-- Create the 'houses' table\n",
        "CREATE TABLE IF NOT EXISTS houses (\n",
        "  \thouse_id INTEGER PRIMARY KEY AUTOINCREMENT,\n",
        "  \thouse_name VARCHAR(50) NOT NULL\n",
        "   );\n",
        "\n",
        "-- Create the 'subjects' table\n",
        "CREATE TABLE IF NOT EXISTS subjects (\n",
        "  \tsubject_id INTEGER PRIMARY KEY AUTOINCREMENT,\n",
        "  \tsubject_name VARCHAR(100) NOT NULL\n",
        "   );\n",
        "\n",
        "-- Create the 'ratings' table\n",
        "CREATE TABLE IF NOT EXISTS ratings (\n",
        "  \trating_id INTEGER PRIMARY KEY AUTOINCREMENT,\n",
        "  \trating_letter VARCHAR(1) NOT NULL,\n",
        "  \trating_description VARCHAR(100) NOT NULL\n",
        "  );\n",
        "\n",
        "-- Create the 'students' table\n",
        "CREATE TABLE IF NOT EXISTS students (\n",
        "  \tstudent_id INTEGER PRIMARY KEY AUTOINCREMENT,\n",
        "  \tfirst_name VARCHAR(100) NOT NULL,\n",
        "    last_name VARCHAR(100) NOT NULL,\n",
        "  \thouse_id INTEGER NOT NULL,\n",
        "  \tFOREIGN KEY (house_id) REFERENCES houses (house_id)\n",
        "  );\n",
        "\n",
        "-- Create the 'grades' table\n",
        "CREATE TABLE IF NOT EXISTS grades (\n",
        "  grade_id INTEGER PRIMARY KEY AUTOINCREMENT,\n",
        "  student_id INTEGER NOT NULL,\n",
        "  subject_id INTEGER NOT NULL,\n",
        "  rating_id INTEGER NOT NULL,\n",
        "  FOREIGN KEY (student_id) REFERENCES students(student_id),\n",
        "  FOREIGN KEY (subject_id) REFERENCES subjects(subject_id),\n",
        "  FOREIGN KEY (grade_id) REFERENCES grades(grade_id)\n",
        "  );\n",
        "\n",
        "-- Insert data into the 'houses' table\n",
        "INSERT INTO houses (house_name) VALUES\n",
        "  \t( 'Gryffindor'),\n",
        "  \t( 'Hufflepuff'),\n",
        "  \t( 'Ravenclaw'),\n",
        "    ( 'Slytherin');\n",
        "\n",
        "\n",
        "-- Insert data into the 'subjects' table\n",
        "INSERT INTO subjects (subject_name) VALUES\n",
        "  \t( 'Charms'),\n",
        "  \t( 'Transfiguration'),\n",
        "  \t( 'Potions'),\n",
        "    ( 'History of Magic'),\n",
        "    ( 'Defense Against the Dark Arts'),\n",
        "  \t( 'Astronomy'),\n",
        "  \t( 'Herbology'),\n",
        "    ( 'Broom Flight');\n",
        "\n",
        "\n",
        "-- Insert data into the 'ratings' table\n",
        "INSERT INTO ratings ( rating_letter, rating_description) VALUES\n",
        "  \t( 'O', 'Outstanding'),\n",
        "  \t( 'E', 'Exceeds Expectations'),\n",
        "  \t( 'A', 'Acceptable'),\n",
        "    ( 'P', 'Poor'),\n",
        "    ( 'D', 'Dreadful'),\n",
        "  \t( 'T', 'Troll');\n",
        "\n",
        "-- Insert data into the 'students' table\n",
        "INSERT INTO students ( first_name, last_name, house_id) VALUES\n",
        "  \t( 'Harry', 'Potter', '1'),\n",
        "  \t( 'Ronald', 'Weasley', '1'),\n",
        "    ( 'Neville', 'Longbottom', '1'),\n",
        "    ( 'Dean', 'Thomas', '1'),\n",
        "    ( 'Seamus', 'Finnigan', '1'),\n",
        "    ( 'Hermione', 'Granger', '1'),\n",
        "    ( 'Lavender', 'Brown', '1'),\n",
        "    ( 'Parvati', 'Patil', '1'),\n",
        "    ( 'Ernie', 'Macmillan', '2'),\n",
        "    ( 'Justin', 'Finch-Fletchley', '2'),\n",
        "    ( 'Hannah', 'Abbott', '2'),\n",
        "    ( 'Susan', 'Bones', '2'),\n",
        "    ( 'Draco', 'Malfoy', '4'),\n",
        "    ( 'Pansy', 'Parkinson', '4'),\n",
        "    ( 'Vincent', 'Crabbe', '4'),\n",
        "    ( 'Gregory', 'Goyle', '4'),\n",
        "    ( 'Blaise', 'Zabini', '4'),\n",
        "    ( 'Luna', 'Lovegood', '3'),\n",
        "    ( 'Padma', 'Patil', '3'),\n",
        "    ( 'Mandy', 'Brocklehurst', '3'),\n",
        "    ( 'Lisa', 'Turpin', '3'),\n",
        "    ( 'Michael', 'Corner', '3'),\n",
        "    ( 'Terry', 'Boot', '3');\n",
        "\n",
        "\n",
        "-- Insert data into the 'grades' table\n",
        "INSERT INTO grades ( student_id, subject_id, rating_id) VALUES\n",
        "  \t( 1, 1, 1 ),\n",
        "    ( 1, 2, 2 ),\n",
        "    ( 1, 3, 3 ),\n",
        "    ( 1, 4, 3 ),\n",
        "    ( 1, 5, 1 ),\n",
        "    ( 1, 6, 2 ),\n",
        "    ( 1, 7, 3 ),\n",
        "    ( 1, 8, 1 ),\n",
        "  \t( 2, 1, 3 ),\n",
        "    ( 2, 2, 4 ),\n",
        "    ( 2, 3, 5 ),\n",
        "    ( 2, 4, 4 ),\n",
        "    ( 2, 5, 3 ),\n",
        "    ( 2, 6, 4 ),\n",
        "    ( 2, 7, 5 ),\n",
        "    ( 2, 8, 4 ),\n",
        "    ( 3, 1, 4 ),\n",
        "    ( 3, 2, 5 ),\n",
        "    ( 3, 3, 6 ),\n",
        "    ( 3, 4, 5 ),\n",
        "    ( 3, 5, 4 ),\n",
        "    ( 3, 6, 5 ),\n",
        "    ( 3, 7, 6 ),\n",
        "    ( 3, 8, 5 ),\n",
        "    ( 4, 1, 3 ),\n",
        "    ( 4, 2, 3 ),\n",
        "    ( 4, 3, 3 ),\n",
        "    ( 4, 4, 3 ),\n",
        "    ( 4, 5, 3 ),\n",
        "    ( 4, 6, 3 ),\n",
        "    ( 4, 7, 3 ),\n",
        "    ( 4, 8, 3 ),\n",
        "    ( 5, 1, 4 ),\n",
        "    ( 5, 2, 5 ),\n",
        "    ( 5, 3, 6 ),\n",
        "    ( 5, 4, 5 ),\n",
        "    ( 5, 5, 4 ),\n",
        "    ( 5, 6, 5 ),\n",
        "    ( 5, 7, 6 ),\n",
        "    ( 5, 8, 5 ),\n",
        "    ( 6, 1, 1 ),\n",
        "    ( 6, 2, 2 ),\n",
        "    ( 6, 3, 3 ),\n",
        "    ( 6, 4, 3 ),\n",
        "    ( 6, 5, 1 ),\n",
        "    ( 6, 6, 2 ),\n",
        "    ( 6, 7, 3 ),\n",
        "    ( 6, 8, 1 ),\n",
        "    ( 7, 1, 3 ),\n",
        "    ( 7, 2, 4 ),\n",
        "    ( 7, 3, 5 ),\n",
        "    ( 7, 4, 4 ),\n",
        "    ( 7, 5, 3 ),\n",
        "    ( 7, 6, 4 ),\n",
        "    ( 7, 7, 5 ),\n",
        "    ( 7, 8, 4 ),\n",
        "    ( 8, 1, 3 ),\n",
        "    ( 8, 2, 3 ),\n",
        "    ( 8, 3, 3 ),\n",
        "    ( 8, 4, 3 ),\n",
        "    ( 8, 5, 3 ),\n",
        "    ( 8, 6, 3 ),\n",
        "    ( 8, 7, 3 ),\n",
        "    ( 8, 8, 3 ),\n",
        "    ( 9, 1, 3 ),\n",
        "    ( 9, 2, 3 ),\n",
        "    ( 9, 3, 3 ),\n",
        "    ( 9, 4, 3 ),\n",
        "    ( 9, 5, 3 ),\n",
        "    ( 9, 6, 3 ),\n",
        "    ( 9, 7, 3 ),\n",
        "    ( 9, 8, 3 ),\n",
        "    ( 10, 1, 4 ),\n",
        "    ( 10, 2, 5 ),\n",
        "    ( 10, 3, 6 ),\n",
        "    ( 10, 4, 5 ),\n",
        "    ( 10, 5, 4 ),\n",
        "    ( 10, 6, 5 ),\n",
        "    ( 10, 7, 6 ),\n",
        "    ( 10, 8, 5 ),\n",
        "    ( 11, 1, 3 ),\n",
        "    ( 11, 2, 3 ),\n",
        "    ( 11, 3, 3 ),\n",
        "    ( 11, 4, 3 ),\n",
        "    ( 11, 5, 3 ),\n",
        "    ( 11, 6, 3 ),\n",
        "    ( 11, 7, 3 ),\n",
        "    ( 11, 8, 3 ),\n",
        "    ( 12, 1, 3 ),\n",
        "    ( 12, 2, 3 ),\n",
        "    ( 12, 3, 3 ),\n",
        "    ( 12, 4, 3 ),\n",
        "    ( 12, 5, 3 ),\n",
        "    ( 12, 6, 3 ),\n",
        "    ( 12, 7, 3 ),\n",
        "    ( 12, 8, 3 ),\n",
        "    ( 13, 1, 2 ),\n",
        "    ( 13, 2, 2 ),\n",
        "    ( 13, 3, 2 ),\n",
        "    ( 13, 4, 2 ),\n",
        "    ( 13, 5, 2 ),\n",
        "    ( 13, 6, 2 ),\n",
        "    ( 13, 7, 2 ),\n",
        "    ( 13, 8, 2 ),\n",
        "    ( 14, 1, 3 ),\n",
        "    ( 14, 2, 3 ),\n",
        "    ( 14, 3, 3 ),\n",
        "    ( 14, 4, 3 ),\n",
        "    ( 14, 5, 3 ),\n",
        "    ( 14, 6, 3 ),\n",
        "    ( 14, 7, 3 ),\n",
        "    ( 14, 8, 3 ),\n",
        "    ( 15, 1, 4 ),\n",
        "    ( 15, 2, 5 ),\n",
        "    ( 15, 3, 6 ),\n",
        "    ( 15, 4, 5 ),\n",
        "    ( 15, 5, 4 ),\n",
        "    ( 15, 6, 5 ),\n",
        "    ( 15, 7, 6 ),\n",
        "    ( 15, 8, 5 ),\n",
        "    ( 16, 1, 4 ),\n",
        "    ( 16, 2, 5 ),\n",
        "    ( 16, 3, 6 ),\n",
        "    ( 16, 4, 5 ),\n",
        "    ( 16, 5, 4 ),\n",
        "    ( 16, 6, 5 ),\n",
        "    ( 16, 7, 6 ),\n",
        "    ( 16, 8, 5 ),\n",
        "    ( 17, 1, 3 ),\n",
        "    ( 17, 2, 3 ),\n",
        "    ( 17, 3, 3 ),\n",
        "    ( 17, 4, 3 ),\n",
        "    ( 17, 5, 3 ),\n",
        "    ( 17, 6, 3 ),\n",
        "    ( 17, 7, 3 ),\n",
        "    ( 17, 8, 3 ),\n",
        "    ( 18, 1, 1 ),\n",
        "    ( 18, 2, 2 ),\n",
        "    ( 18, 3, 3 ),\n",
        "    ( 18, 4, 3 ),\n",
        "    ( 18, 5, 1 ),\n",
        "    ( 18, 6, 2 ),\n",
        "    ( 18, 7, 3 ),\n",
        "    ( 18, 8, 1 ),\n",
        "    ( 19, 1, 2 ),\n",
        "    ( 19, 2, 3 ),\n",
        "    ( 19, 3, 4 ),\n",
        "    ( 19, 4, 2 ),\n",
        "    ( 19, 5, 1 ),\n",
        "    ( 19, 6, 3 ),\n",
        "    ( 19, 7, 4 ),\n",
        "    ( 19, 8, 2 ),\n",
        "    ( 20, 1, 3 ),\n",
        "    ( 20, 2, 3 ),\n",
        "    ( 20, 3, 2 ),\n",
        "    ( 20, 4, 1 ),\n",
        "    ( 20, 5, 3 ),\n",
        "    ( 20, 6, 2 ),\n",
        "    ( 20, 7, 3 ),\n",
        "    ( 20, 8, 1 ),\n",
        "    ( 21, 1, 4 ),\n",
        "    ( 21, 2, 2 ),\n",
        "    ( 21, 3, 3 ),\n",
        "    ( 21, 4, 4 ),\n",
        "    ( 21, 5, 3 ),\n",
        "    ( 21, 6, 2 ),\n",
        "    ( 21, 7, 1 ),\n",
        "    ( 21, 8, 3 ),\n",
        "    ( 22, 1, 3 ),\n",
        "    ( 22, 2, 5 ),\n",
        "    ( 22, 3, 1 ),\n",
        "    ( 22, 4, 3 ),\n",
        "    ( 22, 5, 4 ),\n",
        "    ( 22, 6, 2 ),\n",
        "    ( 22, 7, 5 ),\n",
        "    ( 22, 8, 4 ),\n",
        "    ( 23, 1, 1 ),\n",
        "    ( 23, 2, 2 ),\n",
        "    ( 23, 3, 3 ),\n",
        "    ( 23, 4, 3 ),\n",
        "    ( 23, 5, 1 ),\n",
        "    ( 23, 6, 2 ),\n",
        "    ( 23, 7, 3 ),\n",
        "    ( 23, 8, 1 );\n"
      ],
      "metadata": {
        "colab": {
          "base_uri": "https://localhost:8080/"
        },
        "id": "LarO3K9dZ9qn",
        "outputId": "aeb2dc04-d06d-41f0-86ce-57985e3e268a"
      },
      "execution_count": 16,
      "outputs": [
        {
          "output_type": "stream",
          "name": "stdout",
          "text": [
            " * sqlite:///hogwartsv2.db\n",
            "Done.\n",
            "Done.\n",
            "Done.\n",
            "Done.\n",
            "Done.\n",
            "4 rows affected.\n",
            "8 rows affected.\n",
            "6 rows affected.\n",
            "23 rows affected.\n",
            "184 rows affected.\n"
          ]
        },
        {
          "output_type": "execute_result",
          "data": {
            "text/plain": [
              "[]"
            ]
          },
          "metadata": {},
          "execution_count": 16
        }
      ]
    },
    {
      "cell_type": "markdown",
      "source": [
        "##Define database functions"
      ],
      "metadata": {
        "id": "GPuAagkhaLKo"
      }
    },
    {
      "cell_type": "code",
      "source": [
        "import sqlite3\n",
        "db_file = \"hogwartsv2.db\"\n",
        "db_conn = sqlite3.connect(db_file)"
      ],
      "metadata": {
        "id": "-W428GD3aMPo"
      },
      "execution_count": 17,
      "outputs": []
    },
    {
      "cell_type": "markdown",
      "source": [
        "list all tables available in the database."
      ],
      "metadata": {
        "id": "taHK5kkEaRKe"
      }
    },
    {
      "cell_type": "code",
      "source": [
        "def list_tables() -> list[str]:\n",
        "    \"\"\"Retrieve the names of all tables in the database.\"\"\"\n",
        "    # Include print logging statements so you can see when functions are being called.\n",
        "    print(' - DB CALL: list_tables')\n",
        "\n",
        "    cursor = db_conn.cursor()\n",
        "\n",
        "    # Fetch the table names.\n",
        "    cursor.execute(\"SELECT name FROM sqlite_master WHERE type='table';\")\n",
        "\n",
        "    tables = cursor.fetchall()\n",
        "    return [t[0] for t in tables]\n",
        "\n",
        "\n",
        "list_tables()"
      ],
      "metadata": {
        "colab": {
          "base_uri": "https://localhost:8080/"
        },
        "id": "e4SdIbHmaSFD",
        "outputId": "0311270e-0258-491b-fddb-f0064b832b77"
      },
      "execution_count": 18,
      "outputs": [
        {
          "output_type": "stream",
          "name": "stdout",
          "text": [
            " - DB CALL: list_tables\n"
          ]
        },
        {
          "output_type": "execute_result",
          "data": {
            "text/plain": [
              "['houses', 'sqlite_sequence', 'subjects', 'ratings', 'students', 'grades']"
            ]
          },
          "metadata": {},
          "execution_count": 18
        }
      ]
    },
    {
      "cell_type": "markdown",
      "source": [
        "understand what columns are available in a given table"
      ],
      "metadata": {
        "id": "XBnW1zeYaVCR"
      }
    },
    {
      "cell_type": "code",
      "source": [
        "def describe_table(table_name: str) -> list[tuple[str, str]]:\n",
        "    \"\"\"Look up the table schema.\n",
        "\n",
        "    Returns:\n",
        "      List of columns, where each entry is a tuple of (column, type).\n",
        "    \"\"\"\n",
        "    print(' - DB CALL: describe_table')\n",
        "\n",
        "    cursor = db_conn.cursor()\n",
        "\n",
        "    cursor.execute(f\"PRAGMA table_info({table_name});\")\n",
        "\n",
        "    schema = cursor.fetchall()\n",
        "    # [column index, column name, column type, ...]\n",
        "    return [(col[1], col[2]) for col in schema]\n",
        "\n",
        "\n",
        "describe_table(\"students\")"
      ],
      "metadata": {
        "colab": {
          "base_uri": "https://localhost:8080/"
        },
        "id": "3fOLrhVcaXXt",
        "outputId": "157ac1e3-e9c8-47ca-d99f-ea19da01a441"
      },
      "execution_count": 19,
      "outputs": [
        {
          "output_type": "stream",
          "name": "stdout",
          "text": [
            " - DB CALL: describe_table\n"
          ]
        },
        {
          "output_type": "execute_result",
          "data": {
            "text/plain": [
              "[('student_id', 'INTEGER'),\n",
              " ('first_name', 'VARCHAR(100)'),\n",
              " ('last_name', 'VARCHAR(100)'),\n",
              " ('house_id', 'INTEGER')]"
            ]
          },
          "metadata": {},
          "execution_count": 19
        }
      ]
    },
    {
      "cell_type": "markdown",
      "source": [
        "generate and run a SELECT query"
      ],
      "metadata": {
        "id": "9is_Z6r-acDX"
      }
    },
    {
      "cell_type": "code",
      "source": [
        "def execute_query(sql: str) -> list[list[str]]:\n",
        "    \"\"\"Execute a SELECT statement, returning the results.\"\"\"\n",
        "    print(' - DB CALL: execute_query')\n",
        "    print(f\" - SQL: {sql}\")  # Print the SQL query for debugging\n",
        "\n",
        "    # Escape single quotes within the SQL query by replacing them with two single quotes\n",
        "    sql = sql.replace(\"'\", \"''\")\n",
        "\n",
        "    cursor = db_conn.cursor()\n",
        "\n",
        "    try:\n",
        "        cursor.execute(sql)\n",
        "        return cursor.fetchall()\n",
        "    except sqlite3.OperationalError as e:\n",
        "        print(f\" - ERROR: {e}\")  # Print the error for debugging\n",
        "        # Further debugging or handling logic can be added here\n",
        "        raise e\n",
        "\n",
        "\n",
        "\n",
        "execute_query(\"select * from houses\")"
      ],
      "metadata": {
        "colab": {
          "base_uri": "https://localhost:8080/"
        },
        "id": "0NbiJDN-acnj",
        "outputId": "65febdfb-115c-4fa6-d3a5-6e62ac9480a0"
      },
      "execution_count": 20,
      "outputs": [
        {
          "output_type": "stream",
          "name": "stdout",
          "text": [
            " - DB CALL: execute_query\n",
            " - SQL: select * from houses\n"
          ]
        },
        {
          "output_type": "execute_result",
          "data": {
            "text/plain": [
              "[(1, 'Gryffindor'),\n",
              " (2, 'Hufflepuff'),\n",
              " (3, 'Ravenclaw'),\n",
              " (4, 'Slytherin'),\n",
              " (5, 'Gryffindor'),\n",
              " (6, 'Hufflepuff'),\n",
              " (7, 'Ravenclaw'),\n",
              " (8, 'Slytherin')]"
            ]
          },
          "metadata": {},
          "execution_count": 20
        }
      ]
    },
    {
      "cell_type": "markdown",
      "source": [
        "dynamically extract foreign key constraints from the database schema to build the table interconnections."
      ],
      "metadata": {
        "id": "5tTThfIvrZop"
      }
    },
    {
      "cell_type": "code",
      "source": [
        "def describe_table_interconnections():\n",
        "    \"\"\"Describe the interconnections between tables in the database,\n",
        "    dynamically extracting foreign key relationships.\"\"\"\n",
        "    print(' - DB CALL: describe_table_interconnections')\n",
        "\n",
        "    cursor = db_conn.cursor()\n",
        "\n",
        "    # Get all table names\n",
        "    cursor.execute(\"SELECT name FROM sqlite_master WHERE type='table';\")\n",
        "    tables = [table[0] for table in cursor.fetchall()]\n",
        "\n",
        "    interconnections = {}\n",
        "    for table in tables:\n",
        "        interconnections[table] = []\n",
        "        # Get foreign key constraints for the current table\n",
        "        cursor.execute(f\"PRAGMA foreign_key_list({table});\")\n",
        "        foreign_keys = cursor.fetchall()\n",
        "\n",
        "        for fk in foreign_keys:\n",
        "            # fk[2] contains the referenced table name\n",
        "            interconnections[table].append(fk[2])\n",
        "\n",
        "    # Build the description string\n",
        "    description = \"Table Interconnections:\\n\"\n",
        "    for table, related_tables in interconnections.items():\n",
        "        description += f\"- {table}: \"\n",
        "        if related_tables:\n",
        "            description += f\"Related to {', '.join(related_tables)}\\n\"\n",
        "        else:\n",
        "            description += \"No direct relationships\\n\"\n",
        "\n",
        "    return description\n",
        "\n"
      ],
      "metadata": {
        "id": "ypmexZv4rgih"
      },
      "execution_count": 21,
      "outputs": []
    },
    {
      "cell_type": "markdown",
      "source": [
        "##Implement function calls"
      ],
      "metadata": {
        "id": "i4QIk9jVeRs0"
      }
    },
    {
      "cell_type": "code",
      "source": [
        "!pip install google-generativeai\n",
        "import google.generativeai as genai\n",
        "\n",
        "# These are the Python functions defined above.\n",
        "db_tools = [list_tables, describe_table, execute_query, describe_table_interconnections]\n",
        "\n",
        "instruction = \"\"\"You are a helpful chatbot that can interact with an SQL database for Hogwarts Students Grades.\n",
        "You will take the users questions and turn them into SQL queries using the tools\n",
        "available. Once you have the information you need, you will answer the user's question using\n",
        "the data returned. Use list_tables to see what tables are present, describe_table to understand\n",
        "the schema, and execute_query to issue an SQL SELECT query.\n",
        "\n",
        "You can also use describe_table_interconnections to understand the relationships between the tables in the database.\n",
        "This will help you generate more accurate SQL queries, especially for queries that involve joining multiple tables.\"\"\"\n",
        "\n",
        "model = genai.GenerativeModel(\n",
        "    \"models/gemini-1.5-flash-latest\", tools=db_tools, system_instruction=instruction\n",
        ")\n",
        "\n",
        "# Define a retry policy. The model might make multiple consecutive calls automatically\n",
        "\n",
        "# for a complex query, this ensures the client retries if it hits quota limits.\n",
        "from google.api_core import retry\n",
        "\n",
        "retry_policy = {\"retry\": retry.Retry(predicate=retry.if_transient_error)}\n",
        "\n",
        "# Start a chat with automatic function calling enabled.\n",
        "chat = model.start_chat(enable_automatic_function_calling=True)"
      ],
      "metadata": {
        "colab": {
          "base_uri": "https://localhost:8080/"
        },
        "id": "jR8xcPExeSXA",
        "outputId": "b6f820d7-f91b-4d03-81e9-6fc3a52290e6"
      },
      "execution_count": 22,
      "outputs": [
        {
          "output_type": "stream",
          "name": "stdout",
          "text": [
            "Requirement already satisfied: google-generativeai in /usr/local/lib/python3.10/dist-packages (0.8.3)\n",
            "Requirement already satisfied: google-ai-generativelanguage==0.6.10 in /usr/local/lib/python3.10/dist-packages (from google-generativeai) (0.6.10)\n",
            "Requirement already satisfied: google-api-core in /usr/local/lib/python3.10/dist-packages (from google-generativeai) (2.19.2)\n",
            "Requirement already satisfied: google-api-python-client in /usr/local/lib/python3.10/dist-packages (from google-generativeai) (2.151.0)\n",
            "Requirement already satisfied: google-auth>=2.15.0 in /usr/local/lib/python3.10/dist-packages (from google-generativeai) (2.27.0)\n",
            "Requirement already satisfied: protobuf in /usr/local/lib/python3.10/dist-packages (from google-generativeai) (4.25.5)\n",
            "Requirement already satisfied: pydantic in /usr/local/lib/python3.10/dist-packages (from google-generativeai) (2.9.2)\n",
            "Requirement already satisfied: tqdm in /usr/local/lib/python3.10/dist-packages (from google-generativeai) (4.66.6)\n",
            "Requirement already satisfied: typing-extensions in /usr/local/lib/python3.10/dist-packages (from google-generativeai) (4.12.2)\n",
            "Requirement already satisfied: proto-plus<2.0.0dev,>=1.22.3 in /usr/local/lib/python3.10/dist-packages (from google-ai-generativelanguage==0.6.10->google-generativeai) (1.25.0)\n",
            "Requirement already satisfied: googleapis-common-protos<2.0.dev0,>=1.56.2 in /usr/local/lib/python3.10/dist-packages (from google-api-core->google-generativeai) (1.66.0)\n",
            "Requirement already satisfied: requests<3.0.0.dev0,>=2.18.0 in /usr/local/lib/python3.10/dist-packages (from google-api-core->google-generativeai) (2.32.3)\n",
            "Requirement already satisfied: cachetools<6.0,>=2.0.0 in /usr/local/lib/python3.10/dist-packages (from google-auth>=2.15.0->google-generativeai) (5.5.0)\n",
            "Requirement already satisfied: pyasn1-modules>=0.2.1 in /usr/local/lib/python3.10/dist-packages (from google-auth>=2.15.0->google-generativeai) (0.4.1)\n",
            "Requirement already satisfied: rsa<5,>=3.1.4 in /usr/local/lib/python3.10/dist-packages (from google-auth>=2.15.0->google-generativeai) (4.9)\n",
            "Requirement already satisfied: httplib2<1.dev0,>=0.19.0 in /usr/local/lib/python3.10/dist-packages (from google-api-python-client->google-generativeai) (0.22.0)\n",
            "Requirement already satisfied: google-auth-httplib2<1.0.0,>=0.2.0 in /usr/local/lib/python3.10/dist-packages (from google-api-python-client->google-generativeai) (0.2.0)\n",
            "Requirement already satisfied: uritemplate<5,>=3.0.1 in /usr/local/lib/python3.10/dist-packages (from google-api-python-client->google-generativeai) (4.1.1)\n",
            "Requirement already satisfied: annotated-types>=0.6.0 in /usr/local/lib/python3.10/dist-packages (from pydantic->google-generativeai) (0.7.0)\n",
            "Requirement already satisfied: pydantic-core==2.23.4 in /usr/local/lib/python3.10/dist-packages (from pydantic->google-generativeai) (2.23.4)\n",
            "Requirement already satisfied: grpcio<2.0dev,>=1.33.2 in /usr/local/lib/python3.10/dist-packages (from google-api-core[grpc]!=2.0.*,!=2.1.*,!=2.10.*,!=2.2.*,!=2.3.*,!=2.4.*,!=2.5.*,!=2.6.*,!=2.7.*,!=2.8.*,!=2.9.*,<3.0.0dev,>=1.34.1->google-ai-generativelanguage==0.6.10->google-generativeai) (1.68.0)\n",
            "Requirement already satisfied: grpcio-status<2.0.dev0,>=1.33.2 in /usr/local/lib/python3.10/dist-packages (from google-api-core[grpc]!=2.0.*,!=2.1.*,!=2.10.*,!=2.2.*,!=2.3.*,!=2.4.*,!=2.5.*,!=2.6.*,!=2.7.*,!=2.8.*,!=2.9.*,<3.0.0dev,>=1.34.1->google-ai-generativelanguage==0.6.10->google-generativeai) (1.62.3)\n",
            "Requirement already satisfied: pyparsing!=3.0.0,!=3.0.1,!=3.0.2,!=3.0.3,<4,>=2.4.2 in /usr/local/lib/python3.10/dist-packages (from httplib2<1.dev0,>=0.19.0->google-api-python-client->google-generativeai) (3.2.0)\n",
            "Requirement already satisfied: pyasn1<0.7.0,>=0.4.6 in /usr/local/lib/python3.10/dist-packages (from pyasn1-modules>=0.2.1->google-auth>=2.15.0->google-generativeai) (0.6.1)\n",
            "Requirement already satisfied: charset-normalizer<4,>=2 in /usr/local/lib/python3.10/dist-packages (from requests<3.0.0.dev0,>=2.18.0->google-api-core->google-generativeai) (3.4.0)\n",
            "Requirement already satisfied: idna<4,>=2.5 in /usr/local/lib/python3.10/dist-packages (from requests<3.0.0.dev0,>=2.18.0->google-api-core->google-generativeai) (3.10)\n",
            "Requirement already satisfied: urllib3<3,>=1.21.1 in /usr/local/lib/python3.10/dist-packages (from requests<3.0.0.dev0,>=2.18.0->google-api-core->google-generativeai) (2.2.3)\n",
            "Requirement already satisfied: certifi>=2017.4.17 in /usr/local/lib/python3.10/dist-packages (from requests<3.0.0.dev0,>=2.18.0->google-api-core->google-generativeai) (2024.8.30)\n"
          ]
        }
      ]
    },
    {
      "cell_type": "markdown",
      "source": [
        "#Engage in a chat conversation where you can ask about the contents of the database."
      ],
      "metadata": {
        "id": "zulC4RI9fSMj"
      }
    },
    {
      "cell_type": "code",
      "source": [
        "resp = chat.send_message(\"What are the subjects in Hogwarts?\", request_options=retry_policy)\n",
        "print(resp.text)"
      ],
      "metadata": {
        "colab": {
          "base_uri": "https://localhost:8080/",
          "height": 121
        },
        "id": "e-FL9KT_fpz8",
        "outputId": "04bd5ebe-cbd5-4b27-a3d6-23765718c521"
      },
      "execution_count": 24,
      "outputs": [
        {
          "output_type": "stream",
          "name": "stdout",
          "text": [
            " - DB CALL: list_tables\n",
            " - DB CALL: describe_table\n",
            " - DB CALL: execute_query\n",
            " - SQL: SELECT subject_name FROM subjects\n",
            "The subjects in Hogwarts are: Charms, Transfiguration, Potions, History of Magic, Defense Against the Dark Arts, Astronomy, Herbology, and Broom Flight.\n",
            "\n"
          ]
        }
      ]
    },
    {
      "cell_type": "code",
      "source": [
        "resp = chat.send_message(\"show the ratings in Hogwarts?\", request_options=retry_policy)\n",
        "print(resp.text)"
      ],
      "metadata": {
        "colab": {
          "base_uri": "https://localhost:8080/",
          "height": 225
        },
        "id": "pgI591iegAph",
        "outputId": "fc8131fb-1ffc-4f8b-83f8-14e79e1539b2"
      },
      "execution_count": 25,
      "outputs": [
        {
          "output_type": "stream",
          "name": "stdout",
          "text": [
            " - DB CALL: describe_table\n",
            " - DB CALL: execute_query\n",
            " - SQL: SELECT rating_letter, rating_description FROM ratings\n",
            "The ratings in Hogwarts are:\n",
            "- O: Outstanding\n",
            "- E: Exceeds Expectations\n",
            "- A: Acceptable\n",
            "- P: Poor\n",
            "- D: Dreadful\n",
            "- T: Troll\n",
            "\n",
            "\n"
          ]
        }
      ]
    },
    {
      "cell_type": "code",
      "source": [
        "resp = chat.send_message(\"how many ratings does Hogwarts use?\", request_options=retry_policy)\n",
        "print(resp.text)"
      ],
      "metadata": {
        "colab": {
          "base_uri": "https://localhost:8080/",
          "height": 86
        },
        "id": "n4kw2RsCEoec",
        "outputId": "e3c941a9-e9a1-4d00-b1ff-123ed5bd2c5f"
      },
      "execution_count": 26,
      "outputs": [
        {
          "output_type": "stream",
          "name": "stdout",
          "text": [
            " - DB CALL: execute_query\n",
            " - SQL: SELECT COUNT(DISTINCT rating_letter) FROM ratings\n",
            "Hogwarts uses 6 distinct ratings.\n",
            "\n"
          ]
        }
      ]
    },
    {
      "cell_type": "code",
      "source": [
        "resp = chat.send_message(\"what house Harry Potter belongs to?\", request_options=retry_policy)\n",
        "print(resp.text)"
      ],
      "metadata": {
        "colab": {
          "base_uri": "https://localhost:8080/",
          "height": 426
        },
        "id": "APvO9cIBRwUu",
        "outputId": "301d60c1-2d05-45da-8271-8e2ad136584d"
      },
      "execution_count": 29,
      "outputs": [
        {
          "output_type": "stream",
          "name": "stdout",
          "text": [
            " - DB CALL: list_tables\n",
            " - DB CALL: describe_table_interconnections\n",
            " - DB CALL: describe_table\n",
            " - DB CALL: describe_table\n",
            " - DB CALL: execute_query\n",
            " - SQL: SELECT h.house_name FROM students s JOIN houses h ON s.house_id = h.house_id WHERE s.first_name = 'Harry' AND s.last_name = 'Potter'\n",
            " - ERROR: near \"Harry\": syntax error\n"
          ]
        },
        {
          "output_type": "error",
          "ename": "OperationalError",
          "evalue": "near \"Harry\": syntax error",
          "traceback": [
            "\u001b[0;31m---------------------------------------------------------------------------\u001b[0m",
            "\u001b[0;31mOperationalError\u001b[0m                          Traceback (most recent call last)",
            "\u001b[0;32m<ipython-input-29-dbcd7fdce058>\u001b[0m in \u001b[0;36m<cell line: 1>\u001b[0;34m()\u001b[0m\n\u001b[0;32m----> 1\u001b[0;31m \u001b[0mresp\u001b[0m \u001b[0;34m=\u001b[0m \u001b[0mchat\u001b[0m\u001b[0;34m.\u001b[0m\u001b[0msend_message\u001b[0m\u001b[0;34m(\u001b[0m\u001b[0;34m\"what house Harry Potter belongs to?\"\u001b[0m\u001b[0;34m,\u001b[0m \u001b[0mrequest_options\u001b[0m\u001b[0;34m=\u001b[0m\u001b[0mretry_policy\u001b[0m\u001b[0;34m)\u001b[0m\u001b[0;34m\u001b[0m\u001b[0;34m\u001b[0m\u001b[0m\n\u001b[0m\u001b[1;32m      2\u001b[0m \u001b[0mprint\u001b[0m\u001b[0;34m(\u001b[0m\u001b[0mresp\u001b[0m\u001b[0;34m.\u001b[0m\u001b[0mtext\u001b[0m\u001b[0;34m)\u001b[0m\u001b[0;34m\u001b[0m\u001b[0;34m\u001b[0m\u001b[0m\n",
            "\u001b[0;32m/usr/local/lib/python3.10/dist-packages/google/generativeai/generative_models.py\u001b[0m in \u001b[0;36msend_message\u001b[0;34m(self, content, generation_config, safety_settings, stream, tools, tool_config, request_options)\u001b[0m\n\u001b[1;32m    589\u001b[0m \u001b[0;34m\u001b[0m\u001b[0m\n\u001b[1;32m    590\u001b[0m         \u001b[0;32mif\u001b[0m \u001b[0mself\u001b[0m\u001b[0;34m.\u001b[0m\u001b[0menable_automatic_function_calling\u001b[0m \u001b[0;32mand\u001b[0m \u001b[0mtools_lib\u001b[0m \u001b[0;32mis\u001b[0m \u001b[0;32mnot\u001b[0m \u001b[0;32mNone\u001b[0m\u001b[0;34m:\u001b[0m\u001b[0;34m\u001b[0m\u001b[0;34m\u001b[0m\u001b[0m\n\u001b[0;32m--> 591\u001b[0;31m             self.history, content, response = self._handle_afc(\n\u001b[0m\u001b[1;32m    592\u001b[0m                 \u001b[0mresponse\u001b[0m\u001b[0;34m=\u001b[0m\u001b[0mresponse\u001b[0m\u001b[0;34m,\u001b[0m\u001b[0;34m\u001b[0m\u001b[0;34m\u001b[0m\u001b[0m\n\u001b[1;32m    593\u001b[0m                 \u001b[0mhistory\u001b[0m\u001b[0;34m=\u001b[0m\u001b[0mhistory\u001b[0m\u001b[0;34m,\u001b[0m\u001b[0;34m\u001b[0m\u001b[0;34m\u001b[0m\u001b[0m\n",
            "\u001b[0;32m/usr/local/lib/python3.10/dist-packages/google/generativeai/generative_models.py\u001b[0m in \u001b[0;36m_handle_afc\u001b[0;34m(self, response, history, generation_config, safety_settings, stream, tools_lib, request_options)\u001b[0m\n\u001b[1;32m    645\u001b[0m             \u001b[0mfunction_response_parts\u001b[0m\u001b[0;34m:\u001b[0m \u001b[0mlist\u001b[0m\u001b[0;34m[\u001b[0m\u001b[0mprotos\u001b[0m\u001b[0;34m.\u001b[0m\u001b[0mPart\u001b[0m\u001b[0;34m]\u001b[0m \u001b[0;34m=\u001b[0m \u001b[0;34m[\u001b[0m\u001b[0;34m]\u001b[0m\u001b[0;34m\u001b[0m\u001b[0;34m\u001b[0m\u001b[0m\n\u001b[1;32m    646\u001b[0m             \u001b[0;32mfor\u001b[0m \u001b[0mfc\u001b[0m \u001b[0;32min\u001b[0m \u001b[0mfunction_calls\u001b[0m\u001b[0;34m:\u001b[0m\u001b[0;34m\u001b[0m\u001b[0;34m\u001b[0m\u001b[0m\n\u001b[0;32m--> 647\u001b[0;31m                 \u001b[0mfr\u001b[0m \u001b[0;34m=\u001b[0m \u001b[0mtools_lib\u001b[0m\u001b[0;34m(\u001b[0m\u001b[0mfc\u001b[0m\u001b[0;34m)\u001b[0m\u001b[0;34m\u001b[0m\u001b[0;34m\u001b[0m\u001b[0m\n\u001b[0m\u001b[1;32m    648\u001b[0m                 assert fr is not None, (\n\u001b[1;32m    649\u001b[0m                     \u001b[0;34m\"Unexpected state: The function reference (fr) should never be None. It should only return None if the declaration \"\u001b[0m\u001b[0;34m\u001b[0m\u001b[0;34m\u001b[0m\u001b[0m\n",
            "\u001b[0;32m/usr/local/lib/python3.10/dist-packages/google/generativeai/types/content_types.py\u001b[0m in \u001b[0;36m__call__\u001b[0;34m(self, fc)\u001b[0m\n\u001b[1;32m    865\u001b[0m             \u001b[0;32mreturn\u001b[0m \u001b[0;32mNone\u001b[0m\u001b[0;34m\u001b[0m\u001b[0;34m\u001b[0m\u001b[0m\n\u001b[1;32m    866\u001b[0m \u001b[0;34m\u001b[0m\u001b[0m\n\u001b[0;32m--> 867\u001b[0;31m         \u001b[0mresponse\u001b[0m \u001b[0;34m=\u001b[0m \u001b[0mdeclaration\u001b[0m\u001b[0;34m(\u001b[0m\u001b[0mfc\u001b[0m\u001b[0;34m)\u001b[0m\u001b[0;34m\u001b[0m\u001b[0;34m\u001b[0m\u001b[0m\n\u001b[0m\u001b[1;32m    868\u001b[0m         \u001b[0;32mreturn\u001b[0m \u001b[0mprotos\u001b[0m\u001b[0;34m.\u001b[0m\u001b[0mPart\u001b[0m\u001b[0;34m(\u001b[0m\u001b[0mfunction_response\u001b[0m\u001b[0;34m=\u001b[0m\u001b[0mresponse\u001b[0m\u001b[0;34m)\u001b[0m\u001b[0;34m\u001b[0m\u001b[0;34m\u001b[0m\u001b[0m\n\u001b[1;32m    869\u001b[0m \u001b[0;34m\u001b[0m\u001b[0m\n",
            "\u001b[0;32m/usr/local/lib/python3.10/dist-packages/google/generativeai/types/content_types.py\u001b[0m in \u001b[0;36m__call__\u001b[0;34m(self, fc)\u001b[0m\n\u001b[1;32m    625\u001b[0m \u001b[0;34m\u001b[0m\u001b[0m\n\u001b[1;32m    626\u001b[0m     \u001b[0;32mdef\u001b[0m \u001b[0m__call__\u001b[0m\u001b[0;34m(\u001b[0m\u001b[0mself\u001b[0m\u001b[0;34m,\u001b[0m \u001b[0mfc\u001b[0m\u001b[0;34m:\u001b[0m \u001b[0mprotos\u001b[0m\u001b[0;34m.\u001b[0m\u001b[0mFunctionCall\u001b[0m\u001b[0;34m)\u001b[0m \u001b[0;34m->\u001b[0m \u001b[0mprotos\u001b[0m\u001b[0;34m.\u001b[0m\u001b[0mFunctionResponse\u001b[0m\u001b[0;34m:\u001b[0m\u001b[0;34m\u001b[0m\u001b[0;34m\u001b[0m\u001b[0m\n\u001b[0;32m--> 627\u001b[0;31m         \u001b[0mresult\u001b[0m \u001b[0;34m=\u001b[0m \u001b[0mself\u001b[0m\u001b[0;34m.\u001b[0m\u001b[0mfunction\u001b[0m\u001b[0;34m(\u001b[0m\u001b[0;34m**\u001b[0m\u001b[0mfc\u001b[0m\u001b[0;34m.\u001b[0m\u001b[0margs\u001b[0m\u001b[0;34m)\u001b[0m\u001b[0;34m\u001b[0m\u001b[0;34m\u001b[0m\u001b[0m\n\u001b[0m\u001b[1;32m    628\u001b[0m         \u001b[0;32mif\u001b[0m \u001b[0;32mnot\u001b[0m \u001b[0misinstance\u001b[0m\u001b[0;34m(\u001b[0m\u001b[0mresult\u001b[0m\u001b[0;34m,\u001b[0m \u001b[0mdict\u001b[0m\u001b[0;34m)\u001b[0m\u001b[0;34m:\u001b[0m\u001b[0;34m\u001b[0m\u001b[0;34m\u001b[0m\u001b[0m\n\u001b[1;32m    629\u001b[0m             \u001b[0mresult\u001b[0m \u001b[0;34m=\u001b[0m \u001b[0;34m{\u001b[0m\u001b[0;34m\"result\"\u001b[0m\u001b[0;34m:\u001b[0m \u001b[0mresult\u001b[0m\u001b[0;34m}\u001b[0m\u001b[0;34m\u001b[0m\u001b[0;34m\u001b[0m\u001b[0m\n",
            "\u001b[0;32m<ipython-input-20-376c33e29f85>\u001b[0m in \u001b[0;36mexecute_query\u001b[0;34m(sql)\u001b[0m\n\u001b[1;32m     15\u001b[0m         \u001b[0mprint\u001b[0m\u001b[0;34m(\u001b[0m\u001b[0;34mf\" - ERROR: {e}\"\u001b[0m\u001b[0;34m)\u001b[0m  \u001b[0;31m# Print the error for debugging\u001b[0m\u001b[0;34m\u001b[0m\u001b[0;34m\u001b[0m\u001b[0m\n\u001b[1;32m     16\u001b[0m         \u001b[0;31m# Further debugging or handling logic can be added here\u001b[0m\u001b[0;34m\u001b[0m\u001b[0;34m\u001b[0m\u001b[0m\n\u001b[0;32m---> 17\u001b[0;31m         \u001b[0;32mraise\u001b[0m \u001b[0me\u001b[0m\u001b[0;34m\u001b[0m\u001b[0;34m\u001b[0m\u001b[0m\n\u001b[0m\u001b[1;32m     18\u001b[0m \u001b[0;34m\u001b[0m\u001b[0m\n\u001b[1;32m     19\u001b[0m \u001b[0;34m\u001b[0m\u001b[0m\n",
            "\u001b[0;32m<ipython-input-20-376c33e29f85>\u001b[0m in \u001b[0;36mexecute_query\u001b[0;34m(sql)\u001b[0m\n\u001b[1;32m     10\u001b[0m \u001b[0;34m\u001b[0m\u001b[0m\n\u001b[1;32m     11\u001b[0m     \u001b[0;32mtry\u001b[0m\u001b[0;34m:\u001b[0m\u001b[0;34m\u001b[0m\u001b[0;34m\u001b[0m\u001b[0m\n\u001b[0;32m---> 12\u001b[0;31m         \u001b[0mcursor\u001b[0m\u001b[0;34m.\u001b[0m\u001b[0mexecute\u001b[0m\u001b[0;34m(\u001b[0m\u001b[0msql\u001b[0m\u001b[0;34m)\u001b[0m\u001b[0;34m\u001b[0m\u001b[0;34m\u001b[0m\u001b[0m\n\u001b[0m\u001b[1;32m     13\u001b[0m         \u001b[0;32mreturn\u001b[0m \u001b[0mcursor\u001b[0m\u001b[0;34m.\u001b[0m\u001b[0mfetchall\u001b[0m\u001b[0;34m(\u001b[0m\u001b[0;34m)\u001b[0m\u001b[0;34m\u001b[0m\u001b[0;34m\u001b[0m\u001b[0m\n\u001b[1;32m     14\u001b[0m     \u001b[0;32mexcept\u001b[0m \u001b[0msqlite3\u001b[0m\u001b[0;34m.\u001b[0m\u001b[0mOperationalError\u001b[0m \u001b[0;32mas\u001b[0m \u001b[0me\u001b[0m\u001b[0;34m:\u001b[0m\u001b[0;34m\u001b[0m\u001b[0;34m\u001b[0m\u001b[0m\n",
            "\u001b[0;31mOperationalError\u001b[0m: near \"Harry\": syntax error"
          ]
        }
      ]
    },
    {
      "cell_type": "code",
      "source": [
        "resp = chat.send_message(\"what rating Harry Potter got in the subject Charms?\", request_options=retry_policy)\n",
        "print(resp.text)"
      ],
      "metadata": {
        "colab": {
          "base_uri": "https://localhost:8080/",
          "height": 391
        },
        "id": "pH5kv4OSPhok",
        "outputId": "1a28ea0b-cf12-405b-df5e-3ce2a7b33fb5"
      },
      "execution_count": 28,
      "outputs": [
        {
          "output_type": "stream",
          "name": "stdout",
          "text": [
            " - DB CALL: describe_table_interconnections\n",
            " - DB CALL: describe_table\n",
            " - DB CALL: execute_query\n",
            " - SQL: SELECT student_id FROM students WHERE student_name = 'Harry Potter'\n",
            " - ERROR: near \"Harry\": syntax error\n"
          ]
        },
        {
          "output_type": "error",
          "ename": "OperationalError",
          "evalue": "near \"Harry\": syntax error",
          "traceback": [
            "\u001b[0;31m---------------------------------------------------------------------------\u001b[0m",
            "\u001b[0;31mOperationalError\u001b[0m                          Traceback (most recent call last)",
            "\u001b[0;32m<ipython-input-28-44163714a9ba>\u001b[0m in \u001b[0;36m<cell line: 1>\u001b[0;34m()\u001b[0m\n\u001b[0;32m----> 1\u001b[0;31m \u001b[0mresp\u001b[0m \u001b[0;34m=\u001b[0m \u001b[0mchat\u001b[0m\u001b[0;34m.\u001b[0m\u001b[0msend_message\u001b[0m\u001b[0;34m(\u001b[0m\u001b[0;34m\"what rating Harry Potter got in the subject Charms?\"\u001b[0m\u001b[0;34m,\u001b[0m \u001b[0mrequest_options\u001b[0m\u001b[0;34m=\u001b[0m\u001b[0mretry_policy\u001b[0m\u001b[0;34m)\u001b[0m\u001b[0;34m\u001b[0m\u001b[0;34m\u001b[0m\u001b[0m\n\u001b[0m\u001b[1;32m      2\u001b[0m \u001b[0mprint\u001b[0m\u001b[0;34m(\u001b[0m\u001b[0mresp\u001b[0m\u001b[0;34m.\u001b[0m\u001b[0mtext\u001b[0m\u001b[0;34m)\u001b[0m\u001b[0;34m\u001b[0m\u001b[0;34m\u001b[0m\u001b[0m\n",
            "\u001b[0;32m/usr/local/lib/python3.10/dist-packages/google/generativeai/generative_models.py\u001b[0m in \u001b[0;36msend_message\u001b[0;34m(self, content, generation_config, safety_settings, stream, tools, tool_config, request_options)\u001b[0m\n\u001b[1;32m    589\u001b[0m \u001b[0;34m\u001b[0m\u001b[0m\n\u001b[1;32m    590\u001b[0m         \u001b[0;32mif\u001b[0m \u001b[0mself\u001b[0m\u001b[0;34m.\u001b[0m\u001b[0menable_automatic_function_calling\u001b[0m \u001b[0;32mand\u001b[0m \u001b[0mtools_lib\u001b[0m \u001b[0;32mis\u001b[0m \u001b[0;32mnot\u001b[0m \u001b[0;32mNone\u001b[0m\u001b[0;34m:\u001b[0m\u001b[0;34m\u001b[0m\u001b[0;34m\u001b[0m\u001b[0m\n\u001b[0;32m--> 591\u001b[0;31m             self.history, content, response = self._handle_afc(\n\u001b[0m\u001b[1;32m    592\u001b[0m                 \u001b[0mresponse\u001b[0m\u001b[0;34m=\u001b[0m\u001b[0mresponse\u001b[0m\u001b[0;34m,\u001b[0m\u001b[0;34m\u001b[0m\u001b[0;34m\u001b[0m\u001b[0m\n\u001b[1;32m    593\u001b[0m                 \u001b[0mhistory\u001b[0m\u001b[0;34m=\u001b[0m\u001b[0mhistory\u001b[0m\u001b[0;34m,\u001b[0m\u001b[0;34m\u001b[0m\u001b[0;34m\u001b[0m\u001b[0m\n",
            "\u001b[0;32m/usr/local/lib/python3.10/dist-packages/google/generativeai/generative_models.py\u001b[0m in \u001b[0;36m_handle_afc\u001b[0;34m(self, response, history, generation_config, safety_settings, stream, tools_lib, request_options)\u001b[0m\n\u001b[1;32m    645\u001b[0m             \u001b[0mfunction_response_parts\u001b[0m\u001b[0;34m:\u001b[0m \u001b[0mlist\u001b[0m\u001b[0;34m[\u001b[0m\u001b[0mprotos\u001b[0m\u001b[0;34m.\u001b[0m\u001b[0mPart\u001b[0m\u001b[0;34m]\u001b[0m \u001b[0;34m=\u001b[0m \u001b[0;34m[\u001b[0m\u001b[0;34m]\u001b[0m\u001b[0;34m\u001b[0m\u001b[0;34m\u001b[0m\u001b[0m\n\u001b[1;32m    646\u001b[0m             \u001b[0;32mfor\u001b[0m \u001b[0mfc\u001b[0m \u001b[0;32min\u001b[0m \u001b[0mfunction_calls\u001b[0m\u001b[0;34m:\u001b[0m\u001b[0;34m\u001b[0m\u001b[0;34m\u001b[0m\u001b[0m\n\u001b[0;32m--> 647\u001b[0;31m                 \u001b[0mfr\u001b[0m \u001b[0;34m=\u001b[0m \u001b[0mtools_lib\u001b[0m\u001b[0;34m(\u001b[0m\u001b[0mfc\u001b[0m\u001b[0;34m)\u001b[0m\u001b[0;34m\u001b[0m\u001b[0;34m\u001b[0m\u001b[0m\n\u001b[0m\u001b[1;32m    648\u001b[0m                 assert fr is not None, (\n\u001b[1;32m    649\u001b[0m                     \u001b[0;34m\"Unexpected state: The function reference (fr) should never be None. It should only return None if the declaration \"\u001b[0m\u001b[0;34m\u001b[0m\u001b[0;34m\u001b[0m\u001b[0m\n",
            "\u001b[0;32m/usr/local/lib/python3.10/dist-packages/google/generativeai/types/content_types.py\u001b[0m in \u001b[0;36m__call__\u001b[0;34m(self, fc)\u001b[0m\n\u001b[1;32m    865\u001b[0m             \u001b[0;32mreturn\u001b[0m \u001b[0;32mNone\u001b[0m\u001b[0;34m\u001b[0m\u001b[0;34m\u001b[0m\u001b[0m\n\u001b[1;32m    866\u001b[0m \u001b[0;34m\u001b[0m\u001b[0m\n\u001b[0;32m--> 867\u001b[0;31m         \u001b[0mresponse\u001b[0m \u001b[0;34m=\u001b[0m \u001b[0mdeclaration\u001b[0m\u001b[0;34m(\u001b[0m\u001b[0mfc\u001b[0m\u001b[0;34m)\u001b[0m\u001b[0;34m\u001b[0m\u001b[0;34m\u001b[0m\u001b[0m\n\u001b[0m\u001b[1;32m    868\u001b[0m         \u001b[0;32mreturn\u001b[0m \u001b[0mprotos\u001b[0m\u001b[0;34m.\u001b[0m\u001b[0mPart\u001b[0m\u001b[0;34m(\u001b[0m\u001b[0mfunction_response\u001b[0m\u001b[0;34m=\u001b[0m\u001b[0mresponse\u001b[0m\u001b[0;34m)\u001b[0m\u001b[0;34m\u001b[0m\u001b[0;34m\u001b[0m\u001b[0m\n\u001b[1;32m    869\u001b[0m \u001b[0;34m\u001b[0m\u001b[0m\n",
            "\u001b[0;32m/usr/local/lib/python3.10/dist-packages/google/generativeai/types/content_types.py\u001b[0m in \u001b[0;36m__call__\u001b[0;34m(self, fc)\u001b[0m\n\u001b[1;32m    625\u001b[0m \u001b[0;34m\u001b[0m\u001b[0m\n\u001b[1;32m    626\u001b[0m     \u001b[0;32mdef\u001b[0m \u001b[0m__call__\u001b[0m\u001b[0;34m(\u001b[0m\u001b[0mself\u001b[0m\u001b[0;34m,\u001b[0m \u001b[0mfc\u001b[0m\u001b[0;34m:\u001b[0m \u001b[0mprotos\u001b[0m\u001b[0;34m.\u001b[0m\u001b[0mFunctionCall\u001b[0m\u001b[0;34m)\u001b[0m \u001b[0;34m->\u001b[0m \u001b[0mprotos\u001b[0m\u001b[0;34m.\u001b[0m\u001b[0mFunctionResponse\u001b[0m\u001b[0;34m:\u001b[0m\u001b[0;34m\u001b[0m\u001b[0;34m\u001b[0m\u001b[0m\n\u001b[0;32m--> 627\u001b[0;31m         \u001b[0mresult\u001b[0m \u001b[0;34m=\u001b[0m \u001b[0mself\u001b[0m\u001b[0;34m.\u001b[0m\u001b[0mfunction\u001b[0m\u001b[0;34m(\u001b[0m\u001b[0;34m**\u001b[0m\u001b[0mfc\u001b[0m\u001b[0;34m.\u001b[0m\u001b[0margs\u001b[0m\u001b[0;34m)\u001b[0m\u001b[0;34m\u001b[0m\u001b[0;34m\u001b[0m\u001b[0m\n\u001b[0m\u001b[1;32m    628\u001b[0m         \u001b[0;32mif\u001b[0m \u001b[0;32mnot\u001b[0m \u001b[0misinstance\u001b[0m\u001b[0;34m(\u001b[0m\u001b[0mresult\u001b[0m\u001b[0;34m,\u001b[0m \u001b[0mdict\u001b[0m\u001b[0;34m)\u001b[0m\u001b[0;34m:\u001b[0m\u001b[0;34m\u001b[0m\u001b[0;34m\u001b[0m\u001b[0m\n\u001b[1;32m    629\u001b[0m             \u001b[0mresult\u001b[0m \u001b[0;34m=\u001b[0m \u001b[0;34m{\u001b[0m\u001b[0;34m\"result\"\u001b[0m\u001b[0;34m:\u001b[0m \u001b[0mresult\u001b[0m\u001b[0;34m}\u001b[0m\u001b[0;34m\u001b[0m\u001b[0;34m\u001b[0m\u001b[0m\n",
            "\u001b[0;32m<ipython-input-20-376c33e29f85>\u001b[0m in \u001b[0;36mexecute_query\u001b[0;34m(sql)\u001b[0m\n\u001b[1;32m     15\u001b[0m         \u001b[0mprint\u001b[0m\u001b[0;34m(\u001b[0m\u001b[0;34mf\" - ERROR: {e}\"\u001b[0m\u001b[0;34m)\u001b[0m  \u001b[0;31m# Print the error for debugging\u001b[0m\u001b[0;34m\u001b[0m\u001b[0;34m\u001b[0m\u001b[0m\n\u001b[1;32m     16\u001b[0m         \u001b[0;31m# Further debugging or handling logic can be added here\u001b[0m\u001b[0;34m\u001b[0m\u001b[0;34m\u001b[0m\u001b[0m\n\u001b[0;32m---> 17\u001b[0;31m         \u001b[0;32mraise\u001b[0m \u001b[0me\u001b[0m\u001b[0;34m\u001b[0m\u001b[0;34m\u001b[0m\u001b[0m\n\u001b[0m\u001b[1;32m     18\u001b[0m \u001b[0;34m\u001b[0m\u001b[0m\n\u001b[1;32m     19\u001b[0m \u001b[0;34m\u001b[0m\u001b[0m\n",
            "\u001b[0;32m<ipython-input-20-376c33e29f85>\u001b[0m in \u001b[0;36mexecute_query\u001b[0;34m(sql)\u001b[0m\n\u001b[1;32m     10\u001b[0m \u001b[0;34m\u001b[0m\u001b[0m\n\u001b[1;32m     11\u001b[0m     \u001b[0;32mtry\u001b[0m\u001b[0;34m:\u001b[0m\u001b[0;34m\u001b[0m\u001b[0;34m\u001b[0m\u001b[0m\n\u001b[0;32m---> 12\u001b[0;31m         \u001b[0mcursor\u001b[0m\u001b[0;34m.\u001b[0m\u001b[0mexecute\u001b[0m\u001b[0;34m(\u001b[0m\u001b[0msql\u001b[0m\u001b[0;34m)\u001b[0m\u001b[0;34m\u001b[0m\u001b[0;34m\u001b[0m\u001b[0m\n\u001b[0m\u001b[1;32m     13\u001b[0m         \u001b[0;32mreturn\u001b[0m \u001b[0mcursor\u001b[0m\u001b[0;34m.\u001b[0m\u001b[0mfetchall\u001b[0m\u001b[0;34m(\u001b[0m\u001b[0;34m)\u001b[0m\u001b[0;34m\u001b[0m\u001b[0;34m\u001b[0m\u001b[0m\n\u001b[1;32m     14\u001b[0m     \u001b[0;32mexcept\u001b[0m \u001b[0msqlite3\u001b[0m\u001b[0;34m.\u001b[0m\u001b[0mOperationalError\u001b[0m \u001b[0;32mas\u001b[0m \u001b[0me\u001b[0m\u001b[0;34m:\u001b[0m\u001b[0;34m\u001b[0m\u001b[0;34m\u001b[0m\u001b[0m\n",
            "\u001b[0;31mOperationalError\u001b[0m: near \"Harry\": syntax error"
          ]
        }
      ]
    }
  ]
}