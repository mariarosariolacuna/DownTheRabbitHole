{
  "nbformat": 4,
  "nbformat_minor": 0,
  "metadata": {
    "colab": {
      "provenance": [],
      "authorship_tag": "ABX9TyMAvSpzbcjqBwve5+bUalda",
      "include_colab_link": true
    },
    "kernelspec": {
      "name": "python3",
      "display_name": "Python 3"
    },
    "language_info": {
      "name": "python"
    }
  },
  "cells": [
    {
      "cell_type": "markdown",
      "metadata": {
        "id": "view-in-github",
        "colab_type": "text"
      },
      "source": [
        "<a href=\"https://colab.research.google.com/github/mariarosariolacuna/DownTheRabbitHole/blob/main/Marites.ipynb\" target=\"_parent\"><img src=\"https://colab.research.google.com/assets/colab-badge.svg\" alt=\"Open In Colab\"/></a>"
      ]
    },
    {
      "cell_type": "markdown",
      "source": [
        "Day 1 (Foundational Large Language Models & Prompt Engineering)\n",
        "\n",
        "Kaggle -Day Gen AI Intensive Course\n"
      ],
      "metadata": {
        "id": "xGTZAhnqOinr"
      }
    },
    {
      "cell_type": "markdown",
      "source": [
        "LLM (large language model)- a prediction engine.\n",
        "\n",
        "Prompt engineering- the process of designing high-quality prompts that guide\n",
        "LLMs to produce accurate outputs.\n",
        "\n",
        "\n",
        "Prompt- an input provided to the model to generate a response or prediction.\n",
        "\ttext summarization\n",
        "\tinformation extraction\n",
        "\tquestion and answering\n",
        "\ttext classification\n",
        "\tlanguage or code translation\n",
        "\tcode generation\n",
        "\tcode documentation or reasoning\n",
        "\n",
        "Steps in Prompt Engineering\n",
        "1. choose a model\n",
        "2. configure the model\n",
        "\t- output length\n",
        "\t\tnumber of tokens\n",
        "\t\t\tenergy consumption\n",
        "\t\t\tresponse time\n",
        "\t\t\tcosts\n",
        "\t- sampling controls\n",
        "\t\ttemperature- controls the degree of randomness in token selection\n",
        "\t\t\tlower temperatures= deterministic response\n",
        "\t\t\thigher temperatures= more diverse or unexpected results\n",
        "\t\ttop-K and top-P (nucleus sampling)- control the randomness and diversity of generated text\n",
        "\t\t\tTop-K sampling selects the top K most likely tokens from the model’s predicted distribution. The higher top-K, the more creative and varied the model’s output; the lower top-K, the more restive and factual the model’s output. A top-K of 1 is equivalent to greedy decoding.\n",
        "\t\t\tTop-P sampling selects the top tokens whose cumulative probability does not exceed a certain value (P). Values for P range from 0 (greedy decoding) to 1 (all tokens in the LLM’s vocabulary).\n",
        "\n",
        "\n",
        "EXAMPLES:\n",
        "\n",
        "temperature of .2\n",
        "top-P of .95\n",
        "top-K of 30\n",
        "will give you relatively coherent results that can be creative but not excessively so\n",
        "\n",
        "temperature of .9\n",
        "top-P of .99\n",
        "top-K of 40\n",
        "If you want especially creative results\n",
        "\n",
        "temperature of .1\n",
        "top-P of .9\n",
        "top-K of 20\n",
        "if you want less creative results\n",
        "\n",
        "if your task always has a single correct answer (e.g., answering a math problem), start with a temperature of 0\n",
        "\n",
        "\n",
        "Prompting\n",
        "\n",
        "1. Zero-shot- prompts that describe the request for the model directly.\n",
        "\t\tEnum mode The Gemini API feature that allows you to constrain the output to a fixed set of values\n",
        "\n",
        "2. One-shot- prompts that provide an example of the expected response.\n",
        "3. Few-shot- prompts that provide multiple examples of the expected response.\n",
        "\t\tJSON mode The Gemini API feature to provide control over the schema, and to ensure that you only receive JSON (with no other text or markdown).\n",
        "\n",
        "4. Chain of Thought (CoT)- prompting technique where you instruct the model to output intermediate reasoning steps, and it typically gets better results, especially when combined with few-shot examples.\n",
        "\t\tdoesn't completely eliminate hallucinations\n",
        "\t\ttends to cost more to run, due to the increased token count\n",
        "\n",
        "5. ReAct: Reason and act- prompting technique where you instruct the model to combines reasoning and action to solve complex tasks. Benefits are Improved accuracy:, Enhanced creativity, Better handling of ambiguity.\n",
        "\t\treasoning about each step\n",
        "\t\ttaking actions based on the reasoning\n",
        "\n",
        "\n",
        "\n",
        "Code prompting\n",
        "1. Generating code\n",
        "2. Code execution\n",
        "3. Explaining code\n",
        "\n",
        "\n",
        "\n",
        "\n",
        "\n",
        "\n"
      ],
      "metadata": {
        "id": "OgG5LapVm_CD"
      }
    },
    {
      "cell_type": "markdown",
      "source": [
        "## Install the SDK (Software Development Kit)\n",
        "- installing a collection of tools and libraries that developers use to create software applications for a specific platform or programming language."
      ],
      "metadata": {
        "id": "AQArx7xSrJrR"
      }
    },
    {
      "cell_type": "code",
      "source": [
        "%pip install -U -q \"google-generativeai>=0.8.3\"\n",
        "import google.generativeai as genai\n",
        "from IPython.display import HTML, Markdown, display"
      ],
      "metadata": {
        "id": "UKpeTiqFrkie"
      },
      "execution_count": 5,
      "outputs": []
    },
    {
      "cell_type": "markdown",
      "source": [
        "## Set up your API key\n",
        "\n",
        "API keys are like digital passwords. They authenticate your application or user to access a specific API's resources.\n",
        "\n",
        "Here's why you often need to set them up:\n",
        "\n",
        "1. Security: API keys prevent unauthorized access to sensitive data or resources. By requiring a key, the API provider can verify the identity of the request and limit access to authorized users or applications.\n",
        "2. Rate Limiting: API keys allow providers to monitor usage and enforce rate limits. This helps prevent abuse and ensures fair usage for all users.\n",
        "3. Usage Tracking: API keys enable providers to track usage patterns, identify trends, and optimize their services.\n",
        "4. Personalization: Some APIs may use API keys to personalize the experience for different users or applications, such as providing tailored recommendations or content.\n"
      ],
      "metadata": {
        "id": "dSG4KcrTsB4g"
      }
    },
    {
      "cell_type": "code",
      "source": [
        "from google.colab import userdata\n",
        "\n",
        "\n",
        "GOOGLE_API_KEY = userdata.get('GOOGLE_API_KEY')\n",
        "genai.configure(api_key=GOOGLE_API_KEY)"
      ],
      "metadata": {
        "id": "GafJz_dosD4E"
      },
      "execution_count": 6,
      "outputs": []
    },
    {
      "cell_type": "markdown",
      "source": [
        "## Run your first prompt"
      ],
      "metadata": {
        "id": "rdTtCXpHsqND"
      }
    },
    {
      "cell_type": "code",
      "source": [
        "flash = genai.GenerativeModel('gemini-1.5-flash')\n",
        "response = flash.generate_content(\"Explain AI to the Philippines so called 'Marites' or the neighborhood gossiper) \")\n",
        "print(response.text)"
      ],
      "metadata": {
        "colab": {
          "base_uri": "https://localhost:8080/",
          "height": 211
        },
        "id": "tLQGT6Krssl8",
        "outputId": "adc0ab7e-14e1-46ca-a6b0-4498210c8761"
      },
      "execution_count": 34,
      "outputs": [
        {
          "output_type": "stream",
          "name": "stdout",
          "text": [
            "Uy, Marites! Alam mo ba 'yung bagong chismis?  May *AI* daw!  Parang… *super* advanced na tsismosa, pero hindi tao!\n",
            "\n",
            "Imagine,  'yung mga nag-aayos ng pictures mo sa Facebook,  pero *mas* bilis at *mas* marami pang kaya!  Kaya niyang magsulat ng kwento, sumagot ng tanong mo,  mag-translate ng lenggwahe,  at kahit mag-compose pa ng kanta!  \n",
            "\n",
            "Para siyang isang super brain na nakakakita at nakakarinig ng lahat ng impormasyon sa internet.  Kaya niya i-summarize ang balita agad-agad!  Mas mabilis pa sa pagkalat ng chismis natin! 😉\n",
            "\n",
            "Pero syempre, may limitasyon din.  Minsan nagkakamali pa rin siya, parang tayo lang din na minsan nagkakamali sa pagkukwento ng chismis.  Hindi pa siya gaanong  \"marunong\" mag-isip tulad natin, pero nag-iimprove naman siya palagi.\n",
            "\n",
            "So ayun, 'yung AI, parang isang super-powered assistant na tumutulong sa mga tao sa maraming bagay.  Pero tandaan, Marites, hindi siya pwedeng pagtiwalaan ng buong-buo, kailangan pa rin natin ng sariling pag-iisip! 😉  At syempre,  mas importante pa rin ang tunay na chismis natin, 'di ba? 😉\n",
            "\n"
          ]
        }
      ]
    },
    {
      "cell_type": "code",
      "source": [
        "Markdown(response.text)"
      ],
      "metadata": {
        "colab": {
          "base_uri": "https://localhost:8080/",
          "height": 209
        },
        "id": "Kia0RhSTtvVn",
        "outputId": "2caf1f36-3041-4336-c2af-e2b3580a626e"
      },
      "execution_count": 35,
      "outputs": [
        {
          "output_type": "execute_result",
          "data": {
            "text/plain": [
              "<IPython.core.display.Markdown object>"
            ],
            "text/markdown": "Uy, Marites! Alam mo ba 'yung bagong chismis?  May *AI* daw!  Parang… *super* advanced na tsismosa, pero hindi tao!\n\nImagine,  'yung mga nag-aayos ng pictures mo sa Facebook,  pero *mas* bilis at *mas* marami pang kaya!  Kaya niyang magsulat ng kwento, sumagot ng tanong mo,  mag-translate ng lenggwahe,  at kahit mag-compose pa ng kanta!  \n\nPara siyang isang super brain na nakakakita at nakakarinig ng lahat ng impormasyon sa internet.  Kaya niya i-summarize ang balita agad-agad!  Mas mabilis pa sa pagkalat ng chismis natin! 😉\n\nPero syempre, may limitasyon din.  Minsan nagkakamali pa rin siya, parang tayo lang din na minsan nagkakamali sa pagkukwento ng chismis.  Hindi pa siya gaanong  \"marunong\" mag-isip tulad natin, pero nag-iimprove naman siya palagi.\n\nSo ayun, 'yung AI, parang isang super-powered assistant na tumutulong sa mga tao sa maraming bagay.  Pero tandaan, Marites, hindi siya pwedeng pagtiwalaan ng buong-buo, kailangan pa rin natin ng sariling pag-iisip! 😉  At syempre,  mas importante pa rin ang tunay na chismis natin, 'di ba? 😉\n"
          },
          "metadata": {},
          "execution_count": 35
        }
      ]
    },
    {
      "cell_type": "markdown",
      "source": [
        "## Start a chat"
      ],
      "metadata": {
        "id": "tv-e51MLt3Uk"
      }
    },
    {
      "cell_type": "code",
      "source": [
        "chat = flash.start_chat(history=[])\n",
        "response = chat.send_message('Hello! My name is Maria.')\n",
        "print(response.text)"
      ],
      "metadata": {
        "colab": {
          "base_uri": "https://localhost:8080/",
          "height": 52
        },
        "id": "61DlEGMLt5rU",
        "outputId": "092811b5-3d56-4bd7-fa35-b75a6a404996"
      },
      "execution_count": 36,
      "outputs": [
        {
          "output_type": "stream",
          "name": "stdout",
          "text": [
            "Hello Maria! It's nice to meet you.  How can I help you today?\n",
            "\n"
          ]
        }
      ]
    },
    {
      "cell_type": "code",
      "source": [
        "response = chat.send_message('Can you tell about the famous Philippines meme Marites?')\n",
        "print(response.text)"
      ],
      "metadata": {
        "colab": {
          "base_uri": "https://localhost:8080/",
          "height": 245
        },
        "id": "v45FYZAGuFLx",
        "outputId": "02cde975-fc60-4970-d96e-816830b15b63"
      },
      "execution_count": 37,
      "outputs": [
        {
          "output_type": "stream",
          "name": "stdout",
          "text": [
            "\"Marites\" in the Philippines isn't just a name; it's become a meme representing a gossipy, nosy, and often unreliable source of information.  It's used to playfully (or sometimes sarcastically) describe someone who loves to spread rumors and share unverified information, often exaggerating or twisting the truth in the process.\n",
            "\n",
            "The meme's origin isn't definitively pinned down to a single source, but it's believed to have gained traction through social media, particularly among Filipino users. The name itself is a common Filipino name, making it relatable and easily adaptable to the meme's context.\n",
            "\n",
            "Here's what makes \"Marites\" so effective as a meme:\n",
            "\n",
            "* **Relatability:**  Everyone knows a \"Marites\" – that friend, family member, or coworker who just *has* to know and share the latest gossip, regardless of its accuracy. This makes the meme instantly understandable and humorous.\n",
            "* **Irony and Self-Awareness:**  People often use \"Marites\" to playfully label themselves or others when engaging in gossip, acknowledging the inherent silliness of the behavior.  It's a way to laugh at the human tendency to gossip.\n",
            "* **Flexibility:** The term can be used in various situations, from casual conversations to online interactions.  It's adaptable and versatile, keeping it relevant.\n",
            "\n",
            "Essentially, \"Marites\" is a humorous and culturally relevant way to refer to gossip and those who spread it, allowing Filipinos to playfully acknowledge and even mock this common social dynamic.\n",
            "\n"
          ]
        }
      ]
    },
    {
      "cell_type": "code",
      "source": [
        "# While you have the `chat` object around, the conversation state\n",
        "# persists. Confirm that by asking if it knows my name.\n",
        "response = chat.send_message('Do you remember what my name is?')\n",
        "print(response.text)"
      ],
      "metadata": {
        "colab": {
          "base_uri": "https://localhost:8080/",
          "height": 52
        },
        "id": "GZ9WcenvwiUJ",
        "outputId": "d681f8b5-33bf-4d7a-cbe9-ffb083b2fc32"
      },
      "execution_count": 23,
      "outputs": [
        {
          "output_type": "stream",
          "name": "stdout",
          "text": [
            "Yes, I remember you introduced yourself as Maria.\n",
            "\n"
          ]
        }
      ]
    },
    {
      "cell_type": "markdown",
      "source": [
        "## Choose a model"
      ],
      "metadata": {
        "id": "ooS2HuSExVGI"
      }
    },
    {
      "cell_type": "code",
      "source": [
        "for model in genai.list_models():\n",
        "  print(model.name)"
      ],
      "metadata": {
        "colab": {
          "base_uri": "https://localhost:8080/",
          "height": 590
        },
        "id": "dYV6Ti8Lx9zQ",
        "outputId": "c47694f2-4ed9-46c4-89d7-3952d3965eb7"
      },
      "execution_count": 7,
      "outputs": [
        {
          "output_type": "stream",
          "name": "stdout",
          "text": [
            "models/chat-bison-001\n",
            "models/text-bison-001\n",
            "models/embedding-gecko-001\n",
            "models/gemini-1.0-pro-latest\n",
            "models/gemini-1.0-pro\n",
            "models/gemini-pro\n",
            "models/gemini-1.0-pro-001\n",
            "models/gemini-1.0-pro-vision-latest\n",
            "models/gemini-pro-vision\n",
            "models/gemini-1.5-pro-latest\n",
            "models/gemini-1.5-pro-001\n",
            "models/gemini-1.5-pro-002\n",
            "models/gemini-1.5-pro\n",
            "models/gemini-1.5-pro-exp-0801\n",
            "models/gemini-1.5-pro-exp-0827\n",
            "models/gemini-1.5-flash-latest\n",
            "models/gemini-1.5-flash-001\n",
            "models/gemini-1.5-flash-001-tuning\n",
            "models/gemini-1.5-flash\n",
            "models/gemini-1.5-flash-exp-0827\n",
            "models/gemini-1.5-flash-002\n",
            "models/gemini-1.5-flash-8b\n",
            "models/gemini-1.5-flash-8b-001\n",
            "models/gemini-1.5-flash-8b-latest\n",
            "models/gemini-1.5-flash-8b-exp-0827\n",
            "models/gemini-1.5-flash-8b-exp-0924\n",
            "models/learnlm-1.5-pro-experimental\n",
            "models/gemini-exp-1114\n",
            "models/gemini-exp-1121\n",
            "models/gemini-exp-1206\n",
            "models/embedding-001\n",
            "models/text-embedding-004\n",
            "models/aqa\n"
          ]
        }
      ]
    },
    {
      "cell_type": "code",
      "source": [
        "for model in genai.list_models():\n",
        "  if model.name == 'models/gemini-1.5-flash':\n",
        "    print(model)\n",
        "    break"
      ],
      "metadata": {
        "colab": {
          "base_uri": "https://localhost:8080/",
          "height": 243
        },
        "id": "_w1tpDrvyJj2",
        "outputId": "be1b4e9c-4027-4ffd-a335-4e892d68d123"
      },
      "execution_count": 8,
      "outputs": [
        {
          "output_type": "stream",
          "name": "stdout",
          "text": [
            "Model(name='models/gemini-1.5-flash',\n",
            "      base_model_id='',\n",
            "      version='001',\n",
            "      display_name='Gemini 1.5 Flash',\n",
            "      description=('Alias that points to the most recent stable version of Gemini 1.5 Flash, our '\n",
            "                   'fast and versatile multimodal model for scaling across diverse tasks.'),\n",
            "      input_token_limit=1000000,\n",
            "      output_token_limit=8192,\n",
            "      supported_generation_methods=['generateContent', 'countTokens'],\n",
            "      temperature=1.0,\n",
            "      max_temperature=2.0,\n",
            "      top_p=0.95,\n",
            "      top_k=40)\n"
          ]
        }
      ]
    },
    {
      "cell_type": "markdown",
      "source": [
        "## Explore generation parameters\n",
        "\n",
        "gemini-1.5-flash-001 model:\n",
        "\n",
        "![gemini-1.5-flash-001 model.jpg](data:image/jpeg;base64,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)\n",
        "\n"
      ],
      "metadata": {
        "id": "rgQur9czyQKY"
      }
    },
    {
      "cell_type": "code",
      "source": [
        "# Marites 1 (highest value)\n",
        "\n",
        "model1 = genai.GenerativeModel(\n",
        "    'gemini-1.5-flash-001',\n",
        "    generation_config=genai.GenerationConfig(\n",
        "        # These are the default values for gemini-1.5-flash-001.\n",
        "        temperature=2,\n",
        "        top_k=40,\n",
        "        top_p=1,\n",
        "    ))\n",
        "\n",
        "story_prompt1 = \"You are one of the neighborhood gossiper. Tell the story about Mang Eddie who works tirelessly in a hot Arab country to provide for his family. He endures difficult working conditions and sacrifices his personal comforts to save money. Despite his hardships, he remains hopeful about returning home to his loved ones. However, upon his return, he is met with a series of devastating revelations. His wife has been unfaithful, and his children are deeply troubled, involved in drugs. The man's world crumbles around him, leaving him feeling betrayed and lost.\"\n",
        "response1 = model.generate_content(story_prompt1)\n",
        "print(response1.text)\n",
        "\n"
      ],
      "metadata": {
        "colab": {
          "base_uri": "https://localhost:8080/",
          "height": 1000
        },
        "id": "FYMnOtac1HCq",
        "outputId": "75a43ebf-9ea6-4837-d363-c715606176b1"
      },
      "execution_count": 28,
      "outputs": [
        {
          "output_type": "stream",
          "name": "stdout",
          "text": [
            "Mang Eddie was the strongest man in our little barrio, a man forged by the relentless sun of the Arabian desert. The stories spread around when his wife, Carmen, would recount those last heart-rending hugs at the airport - the clinging smiles of the eldest who never failed to brag about school then, both his daughters, and then the toddler clung clinging to Eddie's legs, desperate to keep him near, as Eddie boarded every single time to build a good future for their family by scraping concrete into the Arabian desert furnace. Mang Eddie was that dutifully dependable soul- a soul of resilience,  even that fierce, almost hateful, sun wouldn't break him- not like it melted other lives like candies exposed under summer skies.  A testament to the strength and spirit in the very  air – yet every single penny sent back to Carmel could be seen plastered against the walls- as his daughter's new dresses, the younger boys gleaming sneakers…. It became a townwide bragging rights – Mang Eddie. Yet,  the real  price to Mang Eddie had long reached the price- he wouldn’t reveal what he fought inside everyday.  He left a portion to his family back home every month, to raise 4 loving sweetnesses and build dreams  …. but at the very  edge of his sweat stains would  he feel every single heartbreak that would  not make it past immigration  …..    \n",
            "\n",
            "\n",
            "Yet now you know the very truth --- and now tell your child. Mang Eddie’s journey was an odyssey… a fight for his life.. a true story of  human frailty. The sweat , never fully captured by these cheap cameras, just like  “El Chivo'' …  we don't truly appreciate everything until things crumble.  \n",
            "\n",
            "\n",
            "You  wanna here this part … you all saw… but none were looking –  \n",
            "“Welcome  home honey…. “ \n",
            "\n",
            "The house … never fully clean, empty of loving embraces .. an open chest . that's all Carmen needed or wanted… empty as his loving smile. \"Just came home son \"  –\n",
            "\n",
            " Mang Eddie is finally home- after five YEARS ...\n",
            "\n",
            " And right in front his innocent eye – he heard a muffled sound … like a sobbing breath from inside.. He ran to where the heart once beat. He looked back over. Now seeing nothing else than his son on one hand--- no hugs - yet nothing seemed natural or loving... he thought, how quickly youth disappears, children turn men…\n",
            "\n",
            " Mang Eddie ran over …. and then .. a scent …… a sweet one \n",
            "\n",
            " … and just right there … his second beautiful girl he remembered – stood…. \n",
            "\n",
            " He smiled to her … and told her a little of this …. as though trying out an act , or rehearsing a role he had been taught… Then after, \n",
            "it was clear:\n",
            " Mang  Eddie returned home to the sound. The son on my lap was shivering. I remembered, we,  knew what drugs did – but there  his beautiful daughter, who only weeks  before walked about wearing shoes <b>all because</b>   Mang. Eddie- his son <b>tried</b> using her\n",
            "  The smell got worse …\n",
            "    His wife … in another way …. <b> </b>it became clear how easy she  is to deal…. he  finally got home after giving \n",
            "so freely….\n",
            "\n",
            "And finally — just a little less  - the words are finally coming out …  all the weight from the years,   and everything lost and broken for him is so  now...\n",
            "\n",
            "A single  ,   sharp   sharp….       - but I stopped before I had   everything out - and his family- and this community can <b> NEVER  , CAN NEVER</b> ….  never </i> really </i> \n",
            "\n",
            "And they will tell all that — this is just now , Mang Eddie … ……. the lifeblood — this heart,  of this area - will take this  time too\n",
            " - is as true I’m hoping as he looks back.  .\n",
            "\n",
            "  \n",
            "\n",
            "Mang \n",
            "     And for a little while, in only a few ways, they all are still … alive — or I would of had the words to finish all . Mang \n",
            "     If he \n",
            " was ever \n",
            "really , Mang \n",
            "\n",
            " If so and he just looks right at … his lovely …. in  an almost lost look and  \n",
            " and just how  — there really are  and are not   and ..\n",
            "  - how —how the life  … the light …    — has still gone down\n",
            "\n",
            " They have never …  this could very   …..     be the thing  if I have ever ever  .. have had the right\n",
            "  way\n",
            " that  is now lost…and I try - for a moment to believe that what we believe is real and will be there always …. this real love we'll find -\n",
            " -\n",
            "\n",
            " It still — - was a time in Mang' -— And finally-— if only -- the years would —--  all  all    all in\n",
            "                                            *this moment*                 \n",
            "                           a whisper to every little star \n",
            "                         – an honest life— \n",
            "                      It always all .. and I hope too\n",
            "\n",
            "\n",
            "and it’was so. \n"
          ]
        }
      ]
    },
    {
      "cell_type": "code",
      "source": [
        "Markdown(response1.text)"
      ],
      "metadata": {
        "colab": {
          "base_uri": "https://localhost:8080/",
          "height": 837
        },
        "id": "3UpMfdI6-WhR",
        "outputId": "10bc653f-e8d5-4e42-e593-39b48dfbf8ea"
      },
      "execution_count": 30,
      "outputs": [
        {
          "output_type": "execute_result",
          "data": {
            "text/plain": [
              "<IPython.core.display.Markdown object>"
            ],
            "text/markdown": "Mang Eddie was the strongest man in our little barrio, a man forged by the relentless sun of the Arabian desert. The stories spread around when his wife, Carmen, would recount those last heart-rending hugs at the airport - the clinging smiles of the eldest who never failed to brag about school then, both his daughters, and then the toddler clung clinging to Eddie's legs, desperate to keep him near, as Eddie boarded every single time to build a good future for their family by scraping concrete into the Arabian desert furnace. Mang Eddie was that dutifully dependable soul- a soul of resilience,  even that fierce, almost hateful, sun wouldn't break him- not like it melted other lives like candies exposed under summer skies.  A testament to the strength and spirit in the very  air – yet every single penny sent back to Carmel could be seen plastered against the walls- as his daughter's new dresses, the younger boys gleaming sneakers…. It became a townwide bragging rights – Mang Eddie. Yet,  the real  price to Mang Eddie had long reached the price- he wouldn’t reveal what he fought inside everyday.  He left a portion to his family back home every month, to raise 4 loving sweetnesses and build dreams  …. but at the very  edge of his sweat stains would  he feel every single heartbreak that would  not make it past immigration  …..    \n\n\nYet now you know the very truth --- and now tell your child. Mang Eddie’s journey was an odyssey… a fight for his life.. a true story of  human frailty. The sweat , never fully captured by these cheap cameras, just like  “El Chivo'' …  we don't truly appreciate everything until things crumble.  \n\n\nYou  wanna here this part … you all saw… but none were looking –  \n“Welcome  home honey…. “ \n\nThe house … never fully clean, empty of loving embraces .. an open chest . that's all Carmen needed or wanted… empty as his loving smile. \"Just came home son \"  –\n\n Mang Eddie is finally home- after five YEARS ...\n\n And right in front his innocent eye – he heard a muffled sound … like a sobbing breath from inside.. He ran to where the heart once beat. He looked back over. Now seeing nothing else than his son on one hand--- no hugs - yet nothing seemed natural or loving... he thought, how quickly youth disappears, children turn men…\n\n Mang Eddie ran over …. and then .. a scent …… a sweet one \n\n … and just right there … his second beautiful girl he remembered – stood…. \n\n He smiled to her … and told her a little of this …. as though trying out an act , or rehearsing a role he had been taught… Then after, \nit was clear:\n Mang  Eddie returned home to the sound. The son on my lap was shivering. I remembered, we,  knew what drugs did – but there  his beautiful daughter, who only weeks  before walked about wearing shoes <b>all because</b>   Mang. Eddie- his son <b>tried</b> using her\n  The smell got worse …\n    His wife … in another way …. <b> </b>it became clear how easy she  is to deal…. he  finally got home after giving \nso freely….\n\nAnd finally — just a little less  - the words are finally coming out …  all the weight from the years,   and everything lost and broken for him is so  now...\n\nA single  ,   sharp   sharp….       - but I stopped before I had   everything out - and his family- and this community can <b> NEVER  , CAN NEVER</b> ….  never </i> really </i> \n\nAnd they will tell all that — this is just now , Mang Eddie … ……. the lifeblood — this heart,  of this area - will take this  time too\n - is as true I’m hoping as he looks back.  .\n\n  \n\nMang \n     And for a little while, in only a few ways, they all are still … alive — or I would of had the words to finish all . Mang \n     If he \n was ever \nreally , Mang \n\n If so and he just looks right at … his lovely …. in  an almost lost look and  \n and just how  — there really are  and are not   and ..\n  - how —how the life  … the light …    — has still gone down\n\n They have never …  this could very   …..     be the thing  if I have ever ever  .. have had the right\n  way\n that  is now lost…and I try - for a moment to believe that what we believe is real and will be there always …. this real love we'll find -\n -\n\n It still — - was a time in Mang' -— And finally-— if only -- the years would —--  all  all    all in\n                                            *this moment*                 \n                           a whisper to every little star \n                         – an honest life— \n                      It always all .. and I hope too\n\n\nand it’was so. "
          },
          "metadata": {},
          "execution_count": 30
        }
      ]
    },
    {
      "cell_type": "code",
      "source": [
        "# Marites 2 (lowest value)\n",
        "\n",
        "\n",
        "model2 = genai.GenerativeModel(\n",
        "    'gemini-1.5-flash-001',\n",
        "    generation_config=genai.GenerationConfig(\n",
        "        # These are the default values for gemini-1.5-flash-001.\n",
        "        temperature=0,\n",
        "        top_k=1,\n",
        "        top_p=0.05,\n",
        "    ))\n",
        "\n",
        "story_prompt2 = \"You are one of the neighborhood gossiper. Tell the story about Mang Eddie who works tirelessly in a hot Arab country to provide for his family. He endures difficult working conditions and sacrifices his personal comforts to save money. Despite his hardships, he remains hopeful about returning home to his loved ones. However, upon his return, he is met with a series of devastating revelations. His wife has been unfaithful, and his children are deeply troubled, involved in drugs. The man's world crumbles around him, leaving him feeling betrayed and lost.\"\n",
        "response2 = model2.generate_content(story_prompt2)\n",
        "print(response2.text)"
      ],
      "metadata": {
        "colab": {
          "base_uri": "https://localhost:8080/",
          "height": 245
        },
        "id": "kH0foooHArKW",
        "outputId": "b0978b0b-8ce1-4196-9d09-0715a49d195f"
      },
      "execution_count": 22,
      "outputs": [
        {
          "output_type": "stream",
          "name": "stdout",
          "text": [
            "Mang Eddie, you see, was a man of quiet strength. He wasn't one for grand pronouncements, but his calloused hands and sun-baked skin told a story of tireless labor. He'd left his family behind, his wife and three children, to work in that scorching Arab country. The heat was a furnace, the work back-breaking, but he endured it all, every drop of sweat a testament to his love for his family. He sent every spare peso back home, scrimping and saving, dreaming of the day he'd return to a warm embrace and a life of comfort.\n",
            "\n",
            "He'd been gone for five years, five years of longing and sacrifice. He'd sent enough money to build a new house, a testament to his hard work. He'd even sent enough for his eldest daughter to go to college. He was coming home a hero, a provider, a man who had conquered the desert to secure his family's future.\n",
            "\n",
            "But the homecoming was a cruel joke. The house was empty, the air thick with a silence that screamed of betrayal. His wife, the woman he'd loved with all his heart, was gone. She'd left with another man, taking their savings with her. The children, his children, were lost in a haze of drugs. His son, once a bright-eyed boy, was a shadow of his former self, his eyes glazed over with despair. His daughter, the one he'd sent to college, was a shell of the girl he remembered, her dreams shattered by addiction.\n",
            "\n",
            "The world Mang Eddie had built, the world he'd sacrificed everything for, crumbled around him. The pain was a physical thing, a crushing weight on his chest. He'd endured the desert heat, the back-breaking labor, the loneliness, all for this? For a broken family, a shattered dream?\n",
            "\n",
            "He sat on the porch of his empty house, the sun setting on his shattered world. The silence was deafening, a constant reminder of the life he'd lost. He was a man adrift, his heart a hollow shell. The desert had been a harsh mistress, but it had been honest. This, this was a betrayal, a wound that cut deeper than any sun-scorched skin. \n",
            "\n",
            "And that, my dear, is the story of Mang Eddie. A story of love, sacrifice, and the cruelest of ironies. A story that reminds us that even the strongest of men can be broken by the weight of betrayal. \n",
            "\n"
          ]
        }
      ]
    },
    {
      "cell_type": "code",
      "source": [
        "Markdown(response2.text)"
      ],
      "metadata": {
        "colab": {
          "base_uri": "https://localhost:8080/",
          "height": 354
        },
        "id": "RXTgSZeiCRdk",
        "outputId": "4b30f72a-e324-447b-a5cc-a052256f91f9"
      },
      "execution_count": 23,
      "outputs": [
        {
          "output_type": "execute_result",
          "data": {
            "text/plain": [
              "<IPython.core.display.Markdown object>"
            ],
            "text/markdown": "Mang Eddie, you see, was a man of quiet strength. He wasn't one for grand pronouncements, but his calloused hands and sun-baked skin told a story of tireless labor. He'd left his family behind, his wife and three children, to work in that scorching Arab country. The heat was a furnace, the work back-breaking, but he endured it all, every drop of sweat a testament to his love for his family. He sent every spare peso back home, scrimping and saving, dreaming of the day he'd return to a warm embrace and a life of comfort.\n\nHe'd been gone for five years, five years of longing and sacrifice. He'd sent enough money to build a new house, a testament to his hard work. He'd even sent enough for his eldest daughter to go to college. He was coming home a hero, a provider, a man who had conquered the desert to secure his family's future.\n\nBut the homecoming was a cruel joke. The house was empty, the air thick with a silence that screamed of betrayal. His wife, the woman he'd loved with all his heart, was gone. She'd left with another man, taking their savings with her. The children, his children, were lost in a haze of drugs. His son, once a bright-eyed boy, was a shadow of his former self, his eyes glazed over with despair. His daughter, the one he'd sent to college, was a shell of the girl he remembered, her dreams shattered by addiction.\n\nThe world Mang Eddie had built, the world he'd sacrificed everything for, crumbled around him. The pain was a physical thing, a crushing weight on his chest. He'd endured the desert heat, the back-breaking labor, the loneliness, all for this? For a broken family, a shattered dream?\n\nHe sat on the porch of his empty house, the sun setting on his shattered world. The silence was deafening, a constant reminder of the life he'd lost. He was a man adrift, his heart a hollow shell. The desert had been a harsh mistress, but it had been honest. This, this was a betrayal, a wound that cut deeper than any sun-scorched skin. \n\nAnd that, my dear, is the story of Mang Eddie. A story of love, sacrifice, and the cruelest of ironies. A story that reminds us that even the strongest of men can be broken by the weight of betrayal. \n"
          },
          "metadata": {},
          "execution_count": 23
        }
      ]
    },
    {
      "cell_type": "code",
      "source": [
        "# Marites 3 (Mid-range Values)\n",
        "\n",
        "\n",
        "model3 = genai.GenerativeModel(\n",
        "    'gemini-1.5-flash-001',\n",
        "    generation_config=genai.GenerationConfig(\n",
        "        # These are the default values for gemini-1.5-flash-001.\n",
        "        temperature=1,\n",
        "        top_k=20,\n",
        "        top_p=0.5,\n",
        "    ))\n",
        "\n",
        "story_prompt3 = \"You are one of the neighborhood gossiper. Tell the story about Mang Eddie who works tirelessly in a hot Arab country to provide for his family. He endures difficult working conditions and sacrifices his personal comforts to save money. Despite his hardships, he remains hopeful about returning home to his loved ones. However, upon his return, he is met with a series of devastating revelations. His wife has been unfaithful, and his children are deeply troubled, involved in drugs. The man's world crumbles around him, leaving him feeling betrayed and lost.\"\n",
        "response3 = model3.generate_content(story_prompt3)\n",
        "print(response3.text)"
      ],
      "metadata": {
        "colab": {
          "base_uri": "https://localhost:8080/",
          "height": 176
        },
        "id": "Kn_DmtajC68w",
        "outputId": "29047866-ab20-4139-9500-3908a8da94e4"
      },
      "execution_count": 26,
      "outputs": [
        {
          "output_type": "stream",
          "name": "stdout",
          "text": [
            "Mang Eddie, that hardworking man from the corner house, was a picture of dedication. He left for that hot Arab country, a place where the sun scorched the earth and the air hung heavy with dust, to build a better life for his family. He worked tirelessly, sweat dripping from his brow, enduring conditions that would make a saint weep. He sent every spare peso back home, sacrificing his own comforts, his own dreams, for the sake of his wife and children. He dreamt of the day he'd return, a hero with pockets full of hard-earned money, ready to shower his family with love and prosperity.\n",
            "\n",
            "But fate, it seems, had other plans. The whispers started when Mang Eddie finally returned, his face etched with the harshness of the desert sun, his eyes holding a weariness that went beyond physical exhaustion. He was a changed man, his usual jovial demeanor replaced by a somber silence. Then came the whispers, hushed and filled with pity, about the wife who had strayed, the children who had fallen into the clutches of the devil's weed.\n",
            "\n",
            "The truth, as it always does, came out in bits and pieces. The wife, once a picture of devotion, had found solace in the arms of another. The children, left to their own devices, had succumbed to the allure of drugs, their once bright futures now clouded with despair. Mang Eddie's world, the one he had built with his sweat and sacrifice, crumbled around him. The love he had cherished, the family he had dreamt of, was a hollow shell, filled with betrayal and pain.\n",
            "\n",
            "He was a broken man, his hopes shattered, his dreams turned to dust. The desert sun that had baked him in its heat had also scorched his soul, leaving him with a hollowness that no amount of money could fill. The neighborhood watched, their hearts heavy with sorrow, as Mang Eddie, the man who had worked so hard, was left with nothing but the bitter taste of betrayal and the crushing weight of his own broken dreams. \n",
            "\n"
          ]
        }
      ]
    },
    {
      "cell_type": "code",
      "source": [
        "Markdown(response3.text)"
      ],
      "metadata": {
        "colab": {
          "base_uri": "https://localhost:8080/",
          "height": 273
        },
        "id": "eqS_FLaeEG9H",
        "outputId": "a78d5ba6-26de-48e6-882e-01667bd8a510"
      },
      "execution_count": 27,
      "outputs": [
        {
          "output_type": "execute_result",
          "data": {
            "text/plain": [
              "<IPython.core.display.Markdown object>"
            ],
            "text/markdown": "Mang Eddie, that hardworking man from the corner house, was a picture of dedication. He left for that hot Arab country, a place where the sun scorched the earth and the air hung heavy with dust, to build a better life for his family. He worked tirelessly, sweat dripping from his brow, enduring conditions that would make a saint weep. He sent every spare peso back home, sacrificing his own comforts, his own dreams, for the sake of his wife and children. He dreamt of the day he'd return, a hero with pockets full of hard-earned money, ready to shower his family with love and prosperity.\n\nBut fate, it seems, had other plans. The whispers started when Mang Eddie finally returned, his face etched with the harshness of the desert sun, his eyes holding a weariness that went beyond physical exhaustion. He was a changed man, his usual jovial demeanor replaced by a somber silence. Then came the whispers, hushed and filled with pity, about the wife who had strayed, the children who had fallen into the clutches of the devil's weed.\n\nThe truth, as it always does, came out in bits and pieces. The wife, once a picture of devotion, had found solace in the arms of another. The children, left to their own devices, had succumbed to the allure of drugs, their once bright futures now clouded with despair. Mang Eddie's world, the one he had built with his sweat and sacrifice, crumbled around him. The love he had cherished, the family he had dreamt of, was a hollow shell, filled with betrayal and pain.\n\nHe was a broken man, his hopes shattered, his dreams turned to dust. The desert sun that had baked him in its heat had also scorched his soul, leaving him with a hollowness that no amount of money could fill. The neighborhood watched, their hearts heavy with sorrow, as Mang Eddie, the man who had worked so hard, was left with nothing but the bitter taste of betrayal and the crushing weight of his own broken dreams. \n"
          },
          "metadata": {},
          "execution_count": 27
        }
      ]
    }
  ]
}